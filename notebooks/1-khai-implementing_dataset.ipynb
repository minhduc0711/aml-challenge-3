{
 "cells": [
  {
   "cell_type": "code",
   "execution_count": 44,
   "id": "b93e15c2-50df-43d1-92c6-33f442dd9946",
   "metadata": {},
   "outputs": [
    {
     "name": "stdout",
     "output_type": "stream",
     "text": [
      "The autoreload extension is already loaded. To reload it, use:\n",
      "  %reload_ext autoreload\n"
     ]
    }
   ],
   "source": [
    "%load_ext autoreload\n",
    "%autoreload 2\n",
    "\n",
    "import torch\n",
    "import re\n",
    "import pandas as pd\n",
    "import numpy as np\n",
    "\n",
    "import operator \n",
    "from src.features.preprocess import fix_laughing_words, fix_misspelling_word, remove_punctuation, remove_url\n",
    "from src.features.vectorizer import Word2vec"
   ]
  },
  {
   "cell_type": "code",
   "execution_count": 22,
   "id": "922d680b-c700-4acb-9afd-3bbc57d5cc74",
   "metadata": {},
   "outputs": [],
   "source": [
    "import gensim.downloader as api\n",
    "\n",
    "embeddings_index = api.load(\"glove-wiki-gigaword-100\")"
   ]
  },
  {
   "cell_type": "code",
   "execution_count": 23,
   "id": "62ac1b69-ca00-46ad-bfbd-c93f5fc32512",
   "metadata": {},
   "outputs": [],
   "source": [
    "train_df = pd.read_csv(\"../data/raw/train.csv\")"
   ]
  },
  {
   "cell_type": "code",
   "execution_count": 41,
   "id": "7cd801b2-fb2e-4538-9796-f33b288f09cb",
   "metadata": {},
   "outputs": [],
   "source": [
    "#  Remove the remain oov\n",
    "def delete_oov(x, oov):\n",
    "    for word in x.split():\n",
    "        for vocab in oov:\n",
    "            if word == vocab[0]:\n",
    "                x = x.replace(word, '')\n",
    "    return x\n",
    "\n",
    "def preprocess(text):\n",
    "    text = text.lower() ## Lowercase\n",
    "    text = remove_url(text) ## Remove url\n",
    "    text = clean_text(text) ## Remove punctuation and weird symbol\n",
    "    text = fix_laughing_words(text) ## Fix hahahah and lololololo\n",
    "    text = fix_misspelling_word(text) # Fix misspelling\n",
    "    return text # Get list of token \n",
    "\n",
    "def tokenize_fn(text):\n",
    "    return text.split()"
   ]
  },
  {
   "cell_type": "code",
   "execution_count": 42,
   "id": "3a6a26a1-462e-4ac9-9f9b-e355f0032709",
   "metadata": {},
   "outputs": [],
   "source": [
    "from src.data.dataset import TextDataset\n",
    "\n",
    "ds = TextDataset(\"../data/raw/train.csv\",\n",
    "                 preprocess_fn=preprocess,\n",
    "                 tokenize_fn=tokenize_fn,\n",
    "                 vectorizer_fn=word2vec.get_vector)"
   ]
  },
  {
   "cell_type": "code",
   "execution_count": 45,
   "id": "09269cb1-29ff-4bdd-86b6-c4005ad83c20",
   "metadata": {},
   "outputs": [
    {
     "data": {
      "text/plain": [
       "torch.Size([1000])"
      ]
     },
     "execution_count": 45,
     "metadata": {},
     "output_type": "execute_result"
    }
   ],
   "source": [
    "ds[0][0].shape"
   ]
  },
  {
   "cell_type": "code",
   "execution_count": null,
   "id": "c0ab7b7b-d2b1-4450-8c61-2f40fa401e3e",
   "metadata": {},
   "outputs": [],
   "source": []
  }
 ],
 "metadata": {
  "kernelspec": {
   "display_name": "Python 3 (ipykernel)",
   "language": "python",
   "name": "python3"
  },
  "language_info": {
   "codemirror_mode": {
    "name": "ipython",
    "version": 3
   },
   "file_extension": ".py",
   "mimetype": "text/x-python",
   "name": "python",
   "nbconvert_exporter": "python",
   "pygments_lexer": "ipython3",
   "version": "3.9.7"
  }
 },
 "nbformat": 4,
 "nbformat_minor": 5
}

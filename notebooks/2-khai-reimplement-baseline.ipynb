{
 "cells": [
  {
   "cell_type": "code",
   "execution_count": 18,
   "id": "566eb02a-5a2c-43b8-9233-014dd1f31f77",
   "metadata": {},
   "outputs": [
    {
     "name": "stdout",
     "output_type": "stream",
     "text": [
      "The autoreload extension is already loaded. To reload it, use:\n",
      "  %reload_ext autoreload\n"
     ]
    }
   ],
   "source": [
    "%load_ext autoreload\n",
    "%autoreload 2\n",
    "\n",
    "import torch\n",
    "import nltk\n",
    "from torch.utils.data import Dataset, DataLoader\n",
    "import pandas as pd"
   ]
  },
  {
   "cell_type": "code",
   "execution_count": 19,
   "id": "edb9a89e-2128-41a6-81ad-0df5ef1ed1d8",
   "metadata": {},
   "outputs": [],
   "source": [
    "train_df = pd.read_csv('../data/raw/train.csv')\n",
    "test_df = pd.read_csv('../data/raw/test.csv')"
   ]
  },
  {
   "cell_type": "code",
   "execution_count": 20,
   "id": "bcb197d4-1543-443c-92ee-8272d946b8aa",
   "metadata": {},
   "outputs": [
    {
     "data": {
      "text/html": [
       "<div>\n",
       "<style scoped>\n",
       "    .dataframe tbody tr th:only-of-type {\n",
       "        vertical-align: middle;\n",
       "    }\n",
       "\n",
       "    .dataframe tbody tr th {\n",
       "        vertical-align: top;\n",
       "    }\n",
       "\n",
       "    .dataframe thead th {\n",
       "        text-align: right;\n",
       "    }\n",
       "</style>\n",
       "<table border=\"1\" class=\"dataframe\">\n",
       "  <thead>\n",
       "    <tr style=\"text-align: right;\">\n",
       "      <th></th>\n",
       "      <th>textID</th>\n",
       "      <th>text</th>\n",
       "      <th>selected_text</th>\n",
       "      <th>sentiment</th>\n",
       "    </tr>\n",
       "  </thead>\n",
       "  <tbody>\n",
       "    <tr>\n",
       "      <th>0</th>\n",
       "      <td>28ac06f416</td>\n",
       "      <td>good luck with your auction</td>\n",
       "      <td>good luck with your auction</td>\n",
       "      <td>positive</td>\n",
       "    </tr>\n",
       "    <tr>\n",
       "      <th>1</th>\n",
       "      <td>92098cf9a7</td>\n",
       "      <td>Hmm..You can`t judge a book by looking at its ...</td>\n",
       "      <td>Hmm..You can`t judge a book by looking at its ...</td>\n",
       "      <td>neutral</td>\n",
       "    </tr>\n",
       "    <tr>\n",
       "      <th>2</th>\n",
       "      <td>7858ff28f2</td>\n",
       "      <td>Hello, yourself. Enjoy London. Watch out for ...</td>\n",
       "      <td>They`re mental.</td>\n",
       "      <td>negative</td>\n",
       "    </tr>\n",
       "    <tr>\n",
       "      <th>3</th>\n",
       "      <td>b0c9c67f32</td>\n",
       "      <td>We can`t even call you from belgium  sucks</td>\n",
       "      <td>m  suck</td>\n",
       "      <td>negative</td>\n",
       "    </tr>\n",
       "    <tr>\n",
       "      <th>4</th>\n",
       "      <td>7b36e9e7a5</td>\n",
       "      <td>not so good mood..</td>\n",
       "      <td>not so good mood..</td>\n",
       "      <td>negative</td>\n",
       "    </tr>\n",
       "  </tbody>\n",
       "</table>\n",
       "</div>"
      ],
      "text/plain": [
       "       textID                                               text  \\\n",
       "0  28ac06f416                        good luck with your auction   \n",
       "1  92098cf9a7  Hmm..You can`t judge a book by looking at its ...   \n",
       "2  7858ff28f2   Hello, yourself. Enjoy London. Watch out for ...   \n",
       "3  b0c9c67f32         We can`t even call you from belgium  sucks   \n",
       "4  7b36e9e7a5                                 not so good mood..   \n",
       "\n",
       "                                       selected_text sentiment  \n",
       "0                        good luck with your auction  positive  \n",
       "1  Hmm..You can`t judge a book by looking at its ...   neutral  \n",
       "2                                    They`re mental.  negative  \n",
       "3                                            m  suck  negative  \n",
       "4                                 not so good mood..  negative  "
      ]
     },
     "execution_count": 20,
     "metadata": {},
     "output_type": "execute_result"
    }
   ],
   "source": [
    "train_df.head()"
   ]
  },
  {
   "cell_type": "code",
   "execution_count": 21,
   "id": "8b98c10f-2669-409b-a562-1542684338ea",
   "metadata": {},
   "outputs": [
    {
     "data": {
      "application/vnd.jupyter.widget-view+json": {
       "model_id": "642c018f60964050947960607d0f43bc",
       "version_major": 2,
       "version_minor": 0
      },
      "text/plain": [
       "  0%|          | 0/24732 [00:00<?, ?it/s]"
      ]
     },
     "metadata": {},
     "output_type": "display_data"
    },
    {
     "data": {
      "application/vnd.jupyter.widget-view+json": {
       "model_id": "c87b6c7c0def48ee98a0d9ecfc9d5817",
       "version_major": 2,
       "version_minor": 0
      },
      "text/plain": [
       "  0%|          | 0/24732 [00:00<?, ?it/s]"
      ]
     },
     "metadata": {},
     "output_type": "display_data"
    }
   ],
   "source": [
    "from src.features.preprocess import preprocess\n",
    "from tqdm.notebook import tqdm\n",
    "tqdm.pandas()\n",
    "\n",
    "train_df[\"text\"] = train_df[\"text\"].progress_apply(lambda x: preprocess(x))\n",
    "test_df[\"text\"] = train_df[\"text\"].progress_apply(lambda x: preprocess(x))"
   ]
  },
  {
   "cell_type": "code",
   "execution_count": 22,
   "id": "40593eb9-fe94-433a-86b5-2beabb6042b4",
   "metadata": {},
   "outputs": [],
   "source": [
    "from sklearn.model_selection import train_test_split\n",
    "\n",
    "train_df, val_df = train_test_split(train_df, test_size=0.1, random_state=0)"
   ]
  },
  {
   "cell_type": "code",
   "execution_count": 23,
   "id": "5a6b5bad-bc53-4010-9705-5810c05a06c2",
   "metadata": {},
   "outputs": [],
   "source": [
    "target_conversion = {\n",
    "    'neutral': 0,\n",
    "    'positive': 1,\n",
    "    'negative': -1\n",
    "}\n",
    "\n",
    "train_df['target'] = train_df['sentiment'].map(target_conversion)\n",
    "val_df['target'] = val_df['sentiment'].map(target_conversion)"
   ]
  },
  {
   "cell_type": "code",
   "execution_count": 24,
   "id": "31d8ed80-423e-425c-a4da-1509d464ad84",
   "metadata": {},
   "outputs": [],
   "source": [
    "from sklearn.feature_extraction.text import CountVectorizer\n",
    "count_vect = CountVectorizer()\n",
    "\n",
    "X_train_counts = count_vect.fit_transform(list(train_df['text'].values))\n",
    "X_val_counts = count_vect.transform(list(val_df['text'].values))\n",
    "X_test_counts = count_vect.transform(list(test_df['text'].values))"
   ]
  },
  {
   "cell_type": "code",
   "execution_count": 25,
   "id": "c2fbdc56-8ca7-4c4f-99f6-82fc02fd30ca",
   "metadata": {},
   "outputs": [
    {
     "name": "stdout",
     "output_type": "stream",
     "text": [
      "Train feature shape: (22258, 22201)\n",
      "Train feature shape: (2474, 22201)\n",
      "Test feature shape: (2748, 22201)\n"
     ]
    }
   ],
   "source": [
    "print('Train feature shape:', X_train_counts.shape)\n",
    "print('Train feature shape:', X_val_counts.shape)\n",
    "print('Test feature shape:', X_test_counts.shape)"
   ]
  },
  {
   "cell_type": "code",
   "execution_count": 26,
   "id": "1ab6f6fc-bcb0-4f13-9192-dea56fdd4bd3",
   "metadata": {},
   "outputs": [],
   "source": [
    "from sklearn.naive_bayes import MultinomialNB\n",
    "\n",
    "clf = MultinomialNB().fit(X_train_counts, train_df['target'])\n",
    "val_predictions_nb = clf.predict(X_val_counts)"
   ]
  },
  {
   "cell_type": "code",
   "execution_count": 27,
   "id": "de36c34e-8e31-46e8-adbf-671208b1f877",
   "metadata": {},
   "outputs": [
    {
     "name": "stdout",
     "output_type": "stream",
     "text": [
      "The accuracy of our multinomial Naive Bayes classifier is: 66.13%\n"
     ]
    }
   ],
   "source": [
    "accuracy = (val_predictions_nb == val_df['target'].values).mean()\n",
    "print('The accuracy of our multinomial Naive Bayes classifier is: {:.2f}%'.format(accuracy*100))"
   ]
  },
  {
   "cell_type": "code",
   "execution_count": 17,
   "id": "82eef9e8-5e6b-45c0-8d51-977591f96245",
   "metadata": {},
   "outputs": [
    {
     "name": "stdout",
     "output_type": "stream",
     "text": [
      "The fbeta score is: 0.6413732952519994\n"
     ]
    }
   ],
   "source": [
    "from sklearn.metrics import fbeta_score\n",
    "\n",
    "fbeta = fbeta_score(val_df['target'].values, val_predictions_nb, average='macro', beta=1.0)\n",
    "print('The fbeta score is:', fbeta)"
   ]
  },
  {
   "cell_type": "code",
   "execution_count": 36,
   "id": "a0b0b6d9-0520-4fa1-94cd-5601d3d0972b",
   "metadata": {},
   "outputs": [],
   "source": [
    "# Creating a submission\n",
    "\n",
    "X_train_counts = count_vect.fit_transform(list(train_df['text'].values) + list(val_df['text'].values))\n",
    "X_test_counts = count_vect.transform(list(test_df['text'].values))\n",
    "\n",
    "clf = MultinomialNB().fit(X_train_counts, np.hstack([train_df['target'].values, val_df['target'].values]))\n",
    "test_predictions_nb = clf.predict(X_test_counts)\n",
    "\n",
    "submission_df = pd.DataFrame()\n",
    "submission_df['textID'] = test_df['textID']\n",
    "submission_df['sentiment'] = test_predictions_nb\n",
    "submission_df.to_csv('TA_baseline_NB.csv', index=False)"
   ]
  },
  {
   "cell_type": "code",
   "execution_count": null,
   "id": "39a90be9-6fc8-4c97-b1a2-71acfeebdc02",
   "metadata": {},
   "outputs": [],
   "source": []
  }
 ],
 "metadata": {
  "kernelspec": {
   "display_name": "Python 3 (ipykernel)",
   "language": "python",
   "name": "python3"
  },
  "language_info": {
   "codemirror_mode": {
    "name": "ipython",
    "version": 3
   },
   "file_extension": ".py",
   "mimetype": "text/x-python",
   "name": "python",
   "nbconvert_exporter": "python",
   "pygments_lexer": "ipython3",
   "version": "3.9.7"
  }
 },
 "nbformat": 4,
 "nbformat_minor": 5
}

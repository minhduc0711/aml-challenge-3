{
 "cells": [
  {
   "cell_type": "code",
   "execution_count": 1,
   "id": "b93e15c2-50df-43d1-92c6-33f442dd9946",
   "metadata": {},
   "outputs": [],
   "source": [
    "%load_ext autoreload\n",
    "%autoreload 2\n",
    "\n",
    "import torch\n",
    "import re\n",
    "from torch.utils.data import Dataset, DataLoader\n",
    "import pandas as pd\n",
    "import numpy as np"
   ]
  },
  {
   "cell_type": "code",
   "execution_count": 2,
   "id": "922d680b-c700-4acb-9afd-3bbc57d5cc74",
   "metadata": {},
   "outputs": [],
   "source": [
    "import gensim.downloader as api\n",
    "\n",
    "embeddings_index = api.load(\"glove-wiki-gigaword-100\")"
   ]
  },
  {
   "cell_type": "code",
   "execution_count": 3,
   "id": "62ac1b69-ca00-46ad-bfbd-c93f5fc32512",
   "metadata": {},
   "outputs": [],
   "source": [
    "train_df = pd.read_csv(\"../data/raw/train.csv\")"
   ]
  },
  {
   "cell_type": "code",
   "execution_count": 4,
   "id": "456cc250-c9eb-4866-a02e-035b59b03d53",
   "metadata": {},
   "outputs": [],
   "source": [
    "import operator \n",
    "from tqdm import tqdm\n",
    "tqdm.pandas()\n",
    "\n",
    "# Count word in the dataset\n",
    "def build_vocab(sentences, verbose =  True):\n",
    "    vocab = {}\n",
    "    for sentence in tqdm(sentences, disable = (not verbose)):\n",
    "        for word in sentence:\n",
    "            try:\n",
    "                vocab[word] += 1\n",
    "            except KeyError:\n",
    "                vocab[word] = 1\n",
    "    return vocab\n",
    "\n",
    "def check_coverage(vocab,embeddings_index):\n",
    "    a = {} # Word in vocab\n",
    "    oov = {}\n",
    "    k = 0 # Total number of word in the embedding index\n",
    "    i = 0 # Total number of word not in the embedding index\n",
    "    for word in tqdm(vocab):\n",
    "        try:\n",
    "            a[word] = embeddings_index[word] # Find word in pre-trained embedding index\n",
    "            k += vocab[word] \n",
    "        except:\n",
    "            oov[word] = vocab[word]\n",
    "            i += vocab[word]\n",
    "            pass\n",
    "\n",
    "    print('Found embeddings for {:.2%} of vocab'.format(len(a) / len(vocab)))\n",
    "    print('Found embeddings for  {:.2%} of all text'.format(k / (k + i)))\n",
    "    sorted_x = sorted(oov.items(), key=operator.itemgetter(1))[::-1]\n",
    "\n",
    "    return sorted_x"
   ]
  },
  {
   "cell_type": "code",
   "execution_count": 5,
   "id": "9a293f87-6eab-47f0-a4f0-45ac59365da4",
   "metadata": {},
   "outputs": [
    {
     "name": "stderr",
     "output_type": "stream",
     "text": [
      "100%|█████████████████████████████████████████████████████████████████████████| 24732/24732 [00:00<00:00, 124364.03it/s]\n",
      "100%|█████████████████████████████████████████████████████████████████████████| 24732/24732 [00:00<00:00, 141187.26it/s]"
     ]
    },
    {
     "name": "stdout",
     "output_type": "stream",
     "text": [
      "{'good': 931, 'luck': 83, 'with': 1811, 'your': 969, 'auction': 1}\n"
     ]
    },
    {
     "name": "stderr",
     "output_type": "stream",
     "text": [
      "\n"
     ]
    }
   ],
   "source": [
    "sentences = train_df[\"text\"].progress_apply(lambda x: x.split()).values\n",
    "vocab = build_vocab(sentences)\n",
    "print({k: vocab[k] for k in list(vocab)[:5]})"
   ]
  },
  {
   "cell_type": "code",
   "execution_count": 6,
   "id": "8a465bb8-0447-467a-8e07-553d07811bb3",
   "metadata": {},
   "outputs": [
    {
     "name": "stderr",
     "output_type": "stream",
     "text": [
      "100%|█████████████████████████████████████████████████████████████████████████| 48435/48435 [00:00<00:00, 213246.19it/s]"
     ]
    },
    {
     "name": "stdout",
     "output_type": "stream",
     "text": [
      "Found embeddings for 25.98% of vocab\n",
      "Found embeddings for  70.20% of all text\n"
     ]
    },
    {
     "name": "stderr",
     "output_type": "stream",
     "text": [
      "\n"
     ]
    }
   ],
   "source": [
    "oov = check_coverage(vocab,embeddings_index)"
   ]
  },
  {
   "cell_type": "code",
   "execution_count": 7,
   "id": "75eba262-67b3-4cde-8016-0316ed43ec25",
   "metadata": {},
   "outputs": [
    {
     "data": {
      "text/plain": [
       "[('I', 7902),\n",
       " ('I`m', 1533),\n",
       " ('****', 719),\n",
       " ('it`s', 695),\n",
       " ('don`t', 681),\n",
       " ('can`t', 562),\n",
       " ('My', 457),\n",
       " ('Just', 438),\n",
       " ('The', 416),\n",
       " ('i`m', 414)]"
      ]
     },
     "execution_count": 7,
     "metadata": {},
     "output_type": "execute_result"
    }
   ],
   "source": [
    "oov[:10]"
   ]
  },
  {
   "cell_type": "code",
   "execution_count": 8,
   "id": "27237fd5-9784-43d8-bbed-efa1743152d8",
   "metadata": {},
   "outputs": [],
   "source": [
    "def remove_url(x):\n",
    "    x = re.sub(r'http\\S+', '', x)\n",
    "    return x\n",
    "\n",
    "# Remove the punnctuation and other stuff\n",
    "def clean_text(x):\n",
    "    x = str(x)\n",
    "    for punct in \"/-'\":\n",
    "        x = x.replace(punct, ' ')\n",
    "    for punct in '&':\n",
    "        x = x.replace(punct, f' {punct} ')\n",
    "    for punct in '?!.,\"#$%\\'()*+-/:;<=>@[\\\\]^_`{|}~' + '“”’':\n",
    "        x = x.replace(punct, '')\n",
    "    return x\n",
    "\n",
    "def fix_laughing_words(x):\n",
    "    # Change hahahahaha or lolololo to haha\n",
    "    x = re.sub(r'\\b(?:a*(?:ha)+h?|(?:l+o+)+l+)\\b', 'haha', x)\n",
    "    return x"
   ]
  },
  {
   "cell_type": "code",
   "execution_count": 9,
   "id": "39e50984-bcd4-4647-b29b-4e759c6fdec9",
   "metadata": {},
   "outputs": [
    {
     "name": "stderr",
     "output_type": "stream",
     "text": [
      "100%|█████████████████████████████████████████████████████████████████████████| 24732/24732 [00:00<00:00, 346844.39it/s]\n",
      "100%|█████████████████████████████████████████████████████████████████████████| 24732/24732 [00:00<00:00, 206961.24it/s]\n",
      "100%|██████████████████████████████████████████████████████████████████████████| 24732/24732 [00:00<00:00, 90430.24it/s]\n",
      "100%|██████████████████████████████████████████████████████████████████████████| 24732/24732 [00:00<00:00, 84493.78it/s]\n",
      "100%|█████████████████████████████████████████████████████████████████████████| 24732/24732 [00:00<00:00, 163627.10it/s]\n"
     ]
    }
   ],
   "source": [
    "train_df[\"text\"] = train_df[\"text\"].progress_apply(lambda x: x.lower())\n",
    "train_df[\"text\"] = train_df[\"text\"].progress_apply(lambda x: remove_url(x))\n",
    "train_df[\"text\"] = train_df[\"text\"].progress_apply(lambda x: clean_text(x))\n",
    "train_df[\"text\"] = train_df[\"text\"].progress_apply(lambda x: fix_laughing_words(x))\n",
    "sentences = train_df[\"text\"].apply(lambda x: x.split())\n",
    "vocab = build_vocab(sentences)"
   ]
  },
  {
   "cell_type": "code",
   "execution_count": 10,
   "id": "4d1aa78e-109a-4bba-b9d4-c443d1fd6cf5",
   "metadata": {},
   "outputs": [
    {
     "name": "stderr",
     "output_type": "stream",
     "text": [
      "100%|█████████████████████████████████████████████████████████████████████████| 25577/25577 [00:00<00:00, 235439.89it/s]"
     ]
    },
    {
     "name": "stdout",
     "output_type": "stream",
     "text": [
      "Found embeddings for 68.26% of vocab\n",
      "Found embeddings for  96.79% of all text\n"
     ]
    },
    {
     "name": "stderr",
     "output_type": "stream",
     "text": [
      "\n"
     ]
    }
   ],
   "source": [
    "oov = check_coverage(vocab,embeddings_index)"
   ]
  },
  {
   "cell_type": "code",
   "execution_count": 11,
   "id": "ac73423d-afd3-4a41-88b2-4bd9cd01f638",
   "metadata": {},
   "outputs": [
    {
     "data": {
      "text/plain": [
       "[('lmao', 65),\n",
       " ('bday', 48),\n",
       " ('youve', 45),\n",
       " ('itll', 36),\n",
       " ('idk', 36),\n",
       " ('followfriday', 26),\n",
       " ('iï¿½m', 26),\n",
       " ('thanx', 25),\n",
       " ('ï¿½', 20),\n",
       " ('shouldnt', 19)]"
      ]
     },
     "execution_count": 11,
     "metadata": {},
     "output_type": "execute_result"
    }
   ],
   "source": [
    "oov[:10]"
   ]
  },
  {
   "cell_type": "code",
   "execution_count": 12,
   "id": "f9df1f64-28d5-4194-ba1c-9a1f0588c3ab",
   "metadata": {},
   "outputs": [],
   "source": [
    "misspelling = {\n",
    "    'bday': 'birthday',\n",
    "    'itll': 'it will',\n",
    "    'youve': 'you have',\n",
    "    'idk': 'i do not know',\n",
    "    'followfriday': 'follow friday',\n",
    "    'shouldnt': 'should not',\n",
    "    'tonights': 'tonight',\n",
    "    'sux': 'suck',\n",
    "    'mommys': 'mommy',\n",
    "    'werent': 'were not',\n",
    "    'everyones': 'everyone',\n",
    "    'theyve': 'they have',\n",
    "    'lmao': 'haha',\n",
    "    'LMAO': 'haha',\n",
    "    'awsome': 'awesome',\n",
    "}\n",
    "\n",
    "# Fix soooooo to so and Lmao\n",
    "def fix_word(x):\n",
    "    # fix soooooo to so    \n",
    "    x = re.sub(r'\\b(?:s+o+)+\\b', 'so', x)\n",
    "    # fix lmao and LMAO to haha\n",
    "    for word in x.split():\n",
    "        if word in misspelling.keys():\n",
    "            x = x.replace(word, misspelling[word])\n",
    "    return x"
   ]
  },
  {
   "cell_type": "code",
   "execution_count": 13,
   "id": "70c30304-97ff-43fa-a476-8205a4389974",
   "metadata": {},
   "outputs": [
    {
     "name": "stderr",
     "output_type": "stream",
     "text": [
      "100%|██████████████████████████████████████████████████████████████████████████| 24732/24732 [00:00<00:00, 65319.18it/s]\n",
      "100%|█████████████████████████████████████████████████████████████████████████| 24732/24732 [00:00<00:00, 159297.42it/s]\n"
     ]
    }
   ],
   "source": [
    "train_df[\"text\"] = train_df[\"text\"].progress_apply(lambda x: fix_word(x))\n",
    "sentences = train_df[\"text\"].apply(lambda x: x.split())\n",
    "vocab = build_vocab(sentences)"
   ]
  },
  {
   "cell_type": "code",
   "execution_count": 14,
   "id": "cfb0875e-5eab-4506-a0a2-7e119579d3f1",
   "metadata": {},
   "outputs": [
    {
     "name": "stderr",
     "output_type": "stream",
     "text": [
      "100%|█████████████████████████████████████████████████████████████████████████| 25548/25548 [00:00<00:00, 201836.25it/s]"
     ]
    },
    {
     "name": "stdout",
     "output_type": "stream",
     "text": [
      "Found embeddings for 68.31% of vocab\n",
      "Found embeddings for  96.93% of all text\n"
     ]
    },
    {
     "name": "stderr",
     "output_type": "stream",
     "text": [
      "\n"
     ]
    },
    {
     "data": {
      "text/plain": [
       "[('iï¿½m', 26),\n",
       " ('thanx', 25),\n",
       " ('ï¿½', 20),\n",
       " ('tweeps', 15),\n",
       " ('2moro', 14),\n",
       " ('hadnt', 13),\n",
       " ('tooo', 13),\n",
       " ('rofl', 12),\n",
       " ('hehehe', 12),\n",
       " ('gunna', 11)]"
      ]
     },
     "execution_count": 14,
     "metadata": {},
     "output_type": "execute_result"
    }
   ],
   "source": [
    "oov = check_coverage(vocab,embeddings_index)\n",
    "oov[:10]"
   ]
  },
  {
   "cell_type": "code",
   "execution_count": 15,
   "id": "7cd801b2-fb2e-4538-9796-f33b288f09cb",
   "metadata": {},
   "outputs": [],
   "source": [
    "#  Remove the remain oov\n",
    "def delete_oov(x, oov):\n",
    "    for word in x.split():\n",
    "        for vocab in oov:\n",
    "            if word == vocab[0]:\n",
    "                x = x.replace(word, '')\n",
    "    return x\n",
    "\n",
    "def preprocess(text):\n",
    "    text = text.lower() ## Lowercase\n",
    "    text = remove_url(text) ## Remove url\n",
    "    text = clean_text(text) ## Remove punctuation and weird symbol\n",
    "    text = fix_laughing_words(text) ## Fix hahahah and lololololo\n",
    "    text = fix_word(text) # Fix misspelling\n",
    "    return text # Get list of token \n",
    "\n",
    "def tokenize_fn(text):\n",
    "    return text.split()\n",
    "\n",
    "def embedding_fn(sentence):\n",
    "    max_sentence = 10\n",
    "    result = np.zeros((max_sentence, 100))\n",
    "    if len(sentence) < max_sentence:\n",
    "        for idx in range(len(sentence)):\n",
    "            word = sentence[idx]\n",
    "            try:\n",
    "                result[idx, :] = embeddings_index[word]\n",
    "            except:\n",
    "                continue\n",
    "    else:\n",
    "        for idx in range(max_sentence):\n",
    "            word = sentence[idx]\n",
    "            try:\n",
    "                result[idx, :] = embeddings_index[word]\n",
    "            except:\n",
    "                continue\n",
    "    return result.flatten()"
   ]
  },
  {
   "cell_type": "code",
   "execution_count": 16,
   "id": "427f7ed9-d0ad-4505-a331-23fef6596d1d",
   "metadata": {},
   "outputs": [],
   "source": [
    "import torch\n",
    "from torch.utils.data import Dataset, DataLoader\n",
    "import pandas as pd\n",
    "\n",
    "class TextDataset(Dataset):\n",
    "    def __init__(self, dataset_file,\n",
    "                 tokenize_fn,\n",
    "                 vectorizer_fn,\n",
    "                 preprocess_fn=None,\n",
    "                 sparse=False):\n",
    "        self.dataset_file = dataset_file\n",
    "        \n",
    "        self.preprocess_fn = preprocess_fn\n",
    "        self.tokenize_fn = tokenize_fn\n",
    "        self.vectorizer_fn = vectorizer_fn\n",
    "        self.sparse = sparse\n",
    "        \n",
    "        self.df = pd.read_csv(dataset_file)\n",
    "        \n",
    "        target_conversion = {\n",
    "            'neutral': 0,\n",
    "            'positive': 1,\n",
    "            'negative': 2\n",
    "        }\n",
    "        if 'sentiment' in self.df:\n",
    "            self.df[\"label\"] = self.df['sentiment'].map(target_conversion)\n",
    "    \n",
    "    def __len__(self):\n",
    "        return len(self.df)\n",
    "    \n",
    "    def __getitem__(self, idx):\n",
    "        text = self.df.loc[idx, \"text\"]\n",
    "        label = self.df.loc[idx, \"label\"] if 'label' in self.df else None\n",
    "        \n",
    "        if self.preprocess_fn is not None:\n",
    "            text = self.preprocess_fn(text)\n",
    "            \n",
    "        tokens = self.tokenize_fn(text)\n",
    "        x = self.vectorizer_fn(tokens)\n",
    "        \n",
    "        x = torch.from_numpy(x)\n",
    "        if self.sparse:\n",
    "            x = x.to_sparse()\n",
    "        \n",
    "        if label is None:\n",
    "            return x\n",
    "        else:\n",
    "            return x, label"
   ]
  },
  {
   "cell_type": "code",
   "execution_count": 17,
   "id": "3a6a26a1-462e-4ac9-9f9b-e355f0032709",
   "metadata": {},
   "outputs": [],
   "source": [
    "ds = TextDataset(\"../data/raw/train.csv\",\n",
    "                 preprocess_fn=preprocess,\n",
    "                 tokenize_fn=tokenize_fn,\n",
    "                 vectorizer_fn=embedding_fn)"
   ]
  },
  {
   "cell_type": "code",
   "execution_count": 18,
   "id": "09269cb1-29ff-4bdd-86b6-c4005ad83c20",
   "metadata": {},
   "outputs": [
    {
     "data": {
      "text/plain": [
       "(tensor([-3.0769e-02,  1.1993e-01,  5.3909e-01, -4.3696e-01, -7.3937e-01,\n",
       "         -1.5345e-01,  8.1126e-02, -3.8559e-01, -6.8797e-01, -4.1632e-01,\n",
       "         -1.3183e-01, -2.4922e-01,  4.4100e-01,  8.5919e-02,  2.0871e-01,\n",
       "         -6.3582e-02,  6.2228e-02, -5.1234e-02, -1.3398e-01,  1.1418e+00,\n",
       "          3.6526e-02,  4.9029e-01, -2.4567e-01, -4.1200e-01,  1.2349e-01,\n",
       "          4.1336e-01, -4.8397e-01, -5.4243e-01, -2.7787e-01, -2.6015e-01,\n",
       "         -3.8485e-01,  7.8656e-01,  1.0230e-01, -2.0712e-01,  4.0751e-01,\n",
       "          3.2026e-01, -5.1052e-01,  4.8362e-01, -9.9498e-03, -3.8685e-01,\n",
       "          3.4975e-02, -1.6700e-01,  4.2370e-01, -5.4164e-01, -3.0323e-01,\n",
       "         -3.6983e-01,  8.2836e-02, -5.2538e-01, -6.4531e-02, -1.3980e+00,\n",
       "         -1.4873e-01, -3.5327e-01, -1.1180e-01,  1.0912e+00,  9.5864e-02,\n",
       "         -2.8129e+00,  4.5238e-01,  4.6213e-01,  1.6012e+00, -2.0837e-01,\n",
       "         -2.7377e-01,  7.1197e-01, -1.0754e+00, -4.6974e-02,  6.7479e-01,\n",
       "         -6.5839e-02,  7.5824e-01,  3.9405e-01,  1.5507e-01, -6.4719e-01,\n",
       "          3.2796e-01, -3.1748e-02,  5.2899e-01, -4.3886e-01,  6.7405e-01,\n",
       "          4.2136e-01, -1.1981e-01, -2.1777e-01, -2.9756e-01, -1.3510e-01,\n",
       "          5.9898e-01,  4.6529e-01, -5.8258e-01, -2.3230e-02, -1.5442e+00,\n",
       "          1.9010e-02, -1.5877e-02,  2.4499e-02, -5.8017e-01, -6.7659e-01,\n",
       "         -4.0379e-02, -4.4043e-01,  8.3292e-02,  2.0035e-01, -7.5499e-01,\n",
       "          1.6918e-01, -2.6573e-01, -5.2878e-01,  1.7584e-01,  1.0650e+00,\n",
       "          1.2050e-01, -1.8180e-01,  6.9513e-01, -4.7534e-01, -5.7506e-01,\n",
       "          1.0366e-01, -1.4555e-01, -4.2548e-01, -3.0698e-01, -1.8402e-01,\n",
       "          1.1188e-01,  4.8610e-01,  4.9571e-01, -1.4646e-01, -1.8269e-02,\n",
       "         -3.0476e-01,  2.1845e-01,  2.6237e-01, -2.7044e-01,  8.7857e-01,\n",
       "          8.5841e-03,  2.9506e-01, -8.3474e-01, -8.5138e-01,  1.7989e-03,\n",
       "          6.5681e-01, -8.6767e-02, -1.1115e-01,  3.0207e-01, -7.9606e-01,\n",
       "         -6.8481e-01,  3.3069e-01, -2.1138e-01, -3.2706e-01,  2.2314e-01,\n",
       "          1.1783e-02, -4.9902e-01,  2.1342e-01,  1.0635e-01, -2.8130e-01,\n",
       "         -1.4524e-01,  2.2643e-03,  1.1082e-01, -6.5075e-01, -5.6882e-01,\n",
       "          4.6748e-03,  6.9502e-02, -3.4525e-01,  3.3329e-01, -7.4615e-01,\n",
       "         -5.4573e-01, -2.2095e-02,  2.7448e-01,  9.1982e-01,  2.6583e-01,\n",
       "         -1.5960e+00, -2.7724e-03,  6.5898e-01,  5.5990e-02, -3.4541e-01,\n",
       "         -3.1309e-01,  5.0351e-01, -6.0155e-01,  1.4982e-01, -1.3195e-02,\n",
       "         -1.3771e-01,  2.6145e-02, -1.5674e-01, -1.5872e-01, -5.1839e-01,\n",
       "         -6.6158e-01,  3.3064e-01,  1.3520e-01,  1.1667e-01,  5.6814e-01,\n",
       "          6.7561e-01, -1.9391e-01, -4.8114e-02, -8.9732e-02,  8.2465e-01,\n",
       "          2.0859e-01,  3.0980e-01, -3.2424e-01, -3.9600e-01, -9.9133e-01,\n",
       "         -1.6849e-01, -4.2291e-01, -1.3049e-01, -6.9344e-01, -4.7736e-01,\n",
       "         -4.9973e-01, -5.4499e-03,  3.4590e-01,  4.0900e-01, -5.6678e-01,\n",
       "         -1.8792e-01,  3.0760e-02, -1.4309e-01, -1.4399e-01,  2.9187e-01,\n",
       "         -4.3608e-01,  3.9104e-01,  5.1657e-01, -1.3861e-01,  2.0290e-01,\n",
       "          5.0723e-01, -1.2544e-02,  2.2948e-01, -6.3160e-01,  2.1199e-01,\n",
       "         -1.8043e-02, -3.9364e-01,  7.4164e-01,  3.0221e-01,  5.1792e-01,\n",
       "         -2.5191e-01,  2.5373e-01, -6.5184e-01, -4.2963e-01,  9.3622e-03,\n",
       "          2.3334e-02, -3.9245e-01,  3.4948e-01,  2.1217e-01,  7.3460e-01,\n",
       "         -2.1962e-01, -2.8611e-02, -3.4641e-01, -2.0934e-01, -2.7091e-01,\n",
       "         -1.7637e-01,  8.2396e-01, -8.2339e-02, -3.4869e-02,  7.9722e-02,\n",
       "          3.4841e-01,  6.0887e-01,  2.2811e-01, -2.9633e-01,  1.8633e-01,\n",
       "          2.3400e-01, -7.0966e-01,  1.6312e-01, -2.0857e-01,  9.2369e-02,\n",
       "         -7.5435e-02, -1.3905e-01, -3.5121e-01, -1.9972e-01, -4.1687e-01,\n",
       "         -3.1485e-01,  1.6123e-01,  3.8882e-02,  1.6654e+00, -1.2401e-01,\n",
       "         -3.3419e+00,  1.0929e-01, -2.6199e-02,  1.2440e+00,  8.4374e-01,\n",
       "         -1.5679e-01,  7.9041e-01, -4.2433e-02,  1.8884e-01,  6.4345e-02,\n",
       "         -1.1683e-01,  1.0467e+00,  7.1813e-01,  5.7834e-01,  2.7014e-01,\n",
       "         -5.0908e-01, -8.3995e-02, -1.4370e-01, -7.6408e-01,  2.7418e-01,\n",
       "          5.6814e-01, -3.9375e-01, -3.2558e-01, -9.2854e-01, -1.3098e-01,\n",
       "          1.3277e+00,  1.1851e-01, -1.5551e-01,  5.9720e-01, -1.0840e+00,\n",
       "         -5.8137e-02,  2.3886e-01,  1.4558e-01, -5.9303e-01, -4.7511e-01,\n",
       "         -2.2064e-01, -3.7591e-01, -7.9649e-01,  1.3465e-02, -4.4595e-01,\n",
       "         -3.4623e-01, -7.5398e-01, -3.5170e-01,  9.9456e-01,  8.8196e-02,\n",
       "         -5.7184e-01,  4.6348e-02,  8.6732e-01, -5.9035e-01, -6.4932e-01,\n",
       "          6.5880e-01, -8.2790e-01,  2.2566e-01, -1.9818e-02,  2.1218e-01,\n",
       "          3.7527e-01,  1.7482e-01,  2.8588e-01,  2.2922e-01, -1.0478e-01,\n",
       "         -3.6858e-01, -9.7605e-02,  5.2989e-01, -2.3984e-02,  4.1082e-01,\n",
       "         -6.8068e-01, -1.1251e-01, -3.5015e-01, -2.9451e-01,  3.8231e-01,\n",
       "          9.3976e-01, -7.3630e-01, -1.0142e+00,  6.0607e-01, -4.6464e-01,\n",
       "          8.3984e-01,  1.2551e+00,  4.9989e-01,  4.1840e-02, -3.1246e-01,\n",
       "          3.8825e-01, -6.6212e-01,  2.6328e-03,  6.2519e-01, -7.4100e-01,\n",
       "          5.7185e-01, -3.5992e-01,  2.1822e-01, -7.8007e-01, -7.7548e-01,\n",
       "          1.3303e-01, -9.2597e-01, -3.2257e-01, -2.5228e-02, -1.3961e+00,\n",
       "          2.2933e-01,  2.6951e-01, -1.6118e-01,  8.5214e-01, -7.8568e-02,\n",
       "         -2.2859e+00,  8.7186e-01,  2.9697e-01,  2.3800e+00, -1.9922e-01,\n",
       "          5.5039e-01,  1.6426e+00, -3.1060e-01, -2.9347e-02,  9.3935e-01,\n",
       "          5.7018e-01,  5.8621e-01, -2.5937e-01,  3.8966e-01, -5.6062e-01,\n",
       "          9.9148e-02,  4.6786e-01,  5.4482e-01, -9.5993e-01,  6.2973e-01,\n",
       "          4.3914e-01, -2.8581e-01, -4.8357e-01, -4.1515e-01,  1.8034e-01,\n",
       "          4.3318e-01,  5.1310e-01, -3.7043e-01, -1.5847e-01, -1.5992e+00,\n",
       "         -2.1375e-01, -1.4180e-01, -1.4231e-01, -1.2466e-01, -5.2912e-02,\n",
       "         -6.2736e-01,  8.5976e-01,  1.2702e+00,  4.5309e-02, -5.4470e-01,\n",
       "         -5.5430e-01,  2.5635e-01, -3.5665e-01,  9.2925e-01,  8.9953e-01,\n",
       "          9.1471e-01,  2.1110e-01, -4.3091e-02,  3.8169e-02,  6.5636e-01,\n",
       "         -4.5177e-01, -1.1318e-01,  5.5555e-01, -4.8341e-01, -2.6773e-01,\n",
       "          1.5386e-01,  8.8817e-01, -3.6656e-01, -9.7956e-01, -4.9345e-01,\n",
       "          3.4045e-01,  1.3171e-01,  8.0426e-01,  7.0571e-01, -3.4169e-02,\n",
       "         -1.5132e-01, -2.6677e-01,  5.6076e-01, -7.2628e-02,  4.9175e-01,\n",
       "         -5.8998e-01,  5.0087e-03,  4.5794e-01, -7.2051e-01, -1.4749e-01,\n",
       "          1.3206e-01, -2.5831e-01,  2.0210e-01,  7.6161e-02,  1.3069e-01,\n",
       "          7.4879e-01, -3.5778e-01, -7.2355e-01, -3.0925e-01, -1.0784e+00,\n",
       "          1.1866e+00, -4.5455e-01, -3.7527e-01, -6.3450e-01, -4.0943e-01,\n",
       "         -4.1942e-01, -6.0095e-01, -7.7610e-01,  5.1070e-01, -7.2240e-01,\n",
       "          5.9558e-01,  7.0619e-02,  7.8340e-01, -4.0563e-01, -6.8373e-01,\n",
       "         -1.2868e+00, -1.3504e+00, -2.3380e-02,  1.7740e+00,  3.7229e-01,\n",
       "         -1.4931e-01,  4.3479e-01,  1.2761e-01,  3.3336e-01,  5.5024e-01,\n",
       "         -1.4203e-02, -3.7755e-02,  4.3614e-01,  4.6473e-01, -8.9080e-01,\n",
       "         -1.5524e-01, -1.7444e-01, -2.0138e-01,  2.6822e-01, -4.0489e-01,\n",
       "         -5.8095e-01, -2.1164e-01, -2.7697e-01, -1.7447e+00, -3.8496e-01,\n",
       "          8.1206e-01,  4.7500e-02,  2.8313e-01, -4.3170e-01, -8.6906e-02,\n",
       "         -5.2022e-01, -2.8111e-01, -4.1530e-02, -7.0410e-02, -2.8258e-01,\n",
       "          1.2472e-01, -1.1087e-01,  6.7453e-01, -3.0445e-01, -5.3769e-01,\n",
       "          3.2484e-02,  2.5670e-01,  3.3619e-01,  3.3234e-01,  2.4049e-02,\n",
       "          0.0000e+00,  0.0000e+00,  0.0000e+00,  0.0000e+00,  0.0000e+00,\n",
       "          0.0000e+00,  0.0000e+00,  0.0000e+00,  0.0000e+00,  0.0000e+00,\n",
       "          0.0000e+00,  0.0000e+00,  0.0000e+00,  0.0000e+00,  0.0000e+00,\n",
       "          0.0000e+00,  0.0000e+00,  0.0000e+00,  0.0000e+00,  0.0000e+00,\n",
       "          0.0000e+00,  0.0000e+00,  0.0000e+00,  0.0000e+00,  0.0000e+00,\n",
       "          0.0000e+00,  0.0000e+00,  0.0000e+00,  0.0000e+00,  0.0000e+00,\n",
       "          0.0000e+00,  0.0000e+00,  0.0000e+00,  0.0000e+00,  0.0000e+00,\n",
       "          0.0000e+00,  0.0000e+00,  0.0000e+00,  0.0000e+00,  0.0000e+00,\n",
       "          0.0000e+00,  0.0000e+00,  0.0000e+00,  0.0000e+00,  0.0000e+00,\n",
       "          0.0000e+00,  0.0000e+00,  0.0000e+00,  0.0000e+00,  0.0000e+00,\n",
       "          0.0000e+00,  0.0000e+00,  0.0000e+00,  0.0000e+00,  0.0000e+00,\n",
       "          0.0000e+00,  0.0000e+00,  0.0000e+00,  0.0000e+00,  0.0000e+00,\n",
       "          0.0000e+00,  0.0000e+00,  0.0000e+00,  0.0000e+00,  0.0000e+00,\n",
       "          0.0000e+00,  0.0000e+00,  0.0000e+00,  0.0000e+00,  0.0000e+00,\n",
       "          0.0000e+00,  0.0000e+00,  0.0000e+00,  0.0000e+00,  0.0000e+00,\n",
       "          0.0000e+00,  0.0000e+00,  0.0000e+00,  0.0000e+00,  0.0000e+00,\n",
       "          0.0000e+00,  0.0000e+00,  0.0000e+00,  0.0000e+00,  0.0000e+00,\n",
       "          0.0000e+00,  0.0000e+00,  0.0000e+00,  0.0000e+00,  0.0000e+00,\n",
       "          0.0000e+00,  0.0000e+00,  0.0000e+00,  0.0000e+00,  0.0000e+00,\n",
       "          0.0000e+00,  0.0000e+00,  0.0000e+00,  0.0000e+00,  0.0000e+00,\n",
       "          0.0000e+00,  0.0000e+00,  0.0000e+00,  0.0000e+00,  0.0000e+00,\n",
       "          0.0000e+00,  0.0000e+00,  0.0000e+00,  0.0000e+00,  0.0000e+00,\n",
       "          0.0000e+00,  0.0000e+00,  0.0000e+00,  0.0000e+00,  0.0000e+00,\n",
       "          0.0000e+00,  0.0000e+00,  0.0000e+00,  0.0000e+00,  0.0000e+00,\n",
       "          0.0000e+00,  0.0000e+00,  0.0000e+00,  0.0000e+00,  0.0000e+00,\n",
       "          0.0000e+00,  0.0000e+00,  0.0000e+00,  0.0000e+00,  0.0000e+00,\n",
       "          0.0000e+00,  0.0000e+00,  0.0000e+00,  0.0000e+00,  0.0000e+00,\n",
       "          0.0000e+00,  0.0000e+00,  0.0000e+00,  0.0000e+00,  0.0000e+00,\n",
       "          0.0000e+00,  0.0000e+00,  0.0000e+00,  0.0000e+00,  0.0000e+00,\n",
       "          0.0000e+00,  0.0000e+00,  0.0000e+00,  0.0000e+00,  0.0000e+00,\n",
       "          0.0000e+00,  0.0000e+00,  0.0000e+00,  0.0000e+00,  0.0000e+00,\n",
       "          0.0000e+00,  0.0000e+00,  0.0000e+00,  0.0000e+00,  0.0000e+00,\n",
       "          0.0000e+00,  0.0000e+00,  0.0000e+00,  0.0000e+00,  0.0000e+00,\n",
       "          0.0000e+00,  0.0000e+00,  0.0000e+00,  0.0000e+00,  0.0000e+00,\n",
       "          0.0000e+00,  0.0000e+00,  0.0000e+00,  0.0000e+00,  0.0000e+00,\n",
       "          0.0000e+00,  0.0000e+00,  0.0000e+00,  0.0000e+00,  0.0000e+00,\n",
       "          0.0000e+00,  0.0000e+00,  0.0000e+00,  0.0000e+00,  0.0000e+00,\n",
       "          0.0000e+00,  0.0000e+00,  0.0000e+00,  0.0000e+00,  0.0000e+00,\n",
       "          0.0000e+00,  0.0000e+00,  0.0000e+00,  0.0000e+00,  0.0000e+00,\n",
       "          0.0000e+00,  0.0000e+00,  0.0000e+00,  0.0000e+00,  0.0000e+00,\n",
       "          0.0000e+00,  0.0000e+00,  0.0000e+00,  0.0000e+00,  0.0000e+00,\n",
       "          0.0000e+00,  0.0000e+00,  0.0000e+00,  0.0000e+00,  0.0000e+00,\n",
       "          0.0000e+00,  0.0000e+00,  0.0000e+00,  0.0000e+00,  0.0000e+00,\n",
       "          0.0000e+00,  0.0000e+00,  0.0000e+00,  0.0000e+00,  0.0000e+00,\n",
       "          0.0000e+00,  0.0000e+00,  0.0000e+00,  0.0000e+00,  0.0000e+00,\n",
       "          0.0000e+00,  0.0000e+00,  0.0000e+00,  0.0000e+00,  0.0000e+00,\n",
       "          0.0000e+00,  0.0000e+00,  0.0000e+00,  0.0000e+00,  0.0000e+00,\n",
       "          0.0000e+00,  0.0000e+00,  0.0000e+00,  0.0000e+00,  0.0000e+00,\n",
       "          0.0000e+00,  0.0000e+00,  0.0000e+00,  0.0000e+00,  0.0000e+00,\n",
       "          0.0000e+00,  0.0000e+00,  0.0000e+00,  0.0000e+00,  0.0000e+00,\n",
       "          0.0000e+00,  0.0000e+00,  0.0000e+00,  0.0000e+00,  0.0000e+00,\n",
       "          0.0000e+00,  0.0000e+00,  0.0000e+00,  0.0000e+00,  0.0000e+00,\n",
       "          0.0000e+00,  0.0000e+00,  0.0000e+00,  0.0000e+00,  0.0000e+00,\n",
       "          0.0000e+00,  0.0000e+00,  0.0000e+00,  0.0000e+00,  0.0000e+00,\n",
       "          0.0000e+00,  0.0000e+00,  0.0000e+00,  0.0000e+00,  0.0000e+00,\n",
       "          0.0000e+00,  0.0000e+00,  0.0000e+00,  0.0000e+00,  0.0000e+00,\n",
       "          0.0000e+00,  0.0000e+00,  0.0000e+00,  0.0000e+00,  0.0000e+00,\n",
       "          0.0000e+00,  0.0000e+00,  0.0000e+00,  0.0000e+00,  0.0000e+00,\n",
       "          0.0000e+00,  0.0000e+00,  0.0000e+00,  0.0000e+00,  0.0000e+00,\n",
       "          0.0000e+00,  0.0000e+00,  0.0000e+00,  0.0000e+00,  0.0000e+00,\n",
       "          0.0000e+00,  0.0000e+00,  0.0000e+00,  0.0000e+00,  0.0000e+00,\n",
       "          0.0000e+00,  0.0000e+00,  0.0000e+00,  0.0000e+00,  0.0000e+00,\n",
       "          0.0000e+00,  0.0000e+00,  0.0000e+00,  0.0000e+00,  0.0000e+00,\n",
       "          0.0000e+00,  0.0000e+00,  0.0000e+00,  0.0000e+00,  0.0000e+00,\n",
       "          0.0000e+00,  0.0000e+00,  0.0000e+00,  0.0000e+00,  0.0000e+00,\n",
       "          0.0000e+00,  0.0000e+00,  0.0000e+00,  0.0000e+00,  0.0000e+00,\n",
       "          0.0000e+00,  0.0000e+00,  0.0000e+00,  0.0000e+00,  0.0000e+00,\n",
       "          0.0000e+00,  0.0000e+00,  0.0000e+00,  0.0000e+00,  0.0000e+00,\n",
       "          0.0000e+00,  0.0000e+00,  0.0000e+00,  0.0000e+00,  0.0000e+00,\n",
       "          0.0000e+00,  0.0000e+00,  0.0000e+00,  0.0000e+00,  0.0000e+00,\n",
       "          0.0000e+00,  0.0000e+00,  0.0000e+00,  0.0000e+00,  0.0000e+00,\n",
       "          0.0000e+00,  0.0000e+00,  0.0000e+00,  0.0000e+00,  0.0000e+00,\n",
       "          0.0000e+00,  0.0000e+00,  0.0000e+00,  0.0000e+00,  0.0000e+00,\n",
       "          0.0000e+00,  0.0000e+00,  0.0000e+00,  0.0000e+00,  0.0000e+00,\n",
       "          0.0000e+00,  0.0000e+00,  0.0000e+00,  0.0000e+00,  0.0000e+00,\n",
       "          0.0000e+00,  0.0000e+00,  0.0000e+00,  0.0000e+00,  0.0000e+00,\n",
       "          0.0000e+00,  0.0000e+00,  0.0000e+00,  0.0000e+00,  0.0000e+00,\n",
       "          0.0000e+00,  0.0000e+00,  0.0000e+00,  0.0000e+00,  0.0000e+00,\n",
       "          0.0000e+00,  0.0000e+00,  0.0000e+00,  0.0000e+00,  0.0000e+00,\n",
       "          0.0000e+00,  0.0000e+00,  0.0000e+00,  0.0000e+00,  0.0000e+00,\n",
       "          0.0000e+00,  0.0000e+00,  0.0000e+00,  0.0000e+00,  0.0000e+00,\n",
       "          0.0000e+00,  0.0000e+00,  0.0000e+00,  0.0000e+00,  0.0000e+00,\n",
       "          0.0000e+00,  0.0000e+00,  0.0000e+00,  0.0000e+00,  0.0000e+00,\n",
       "          0.0000e+00,  0.0000e+00,  0.0000e+00,  0.0000e+00,  0.0000e+00,\n",
       "          0.0000e+00,  0.0000e+00,  0.0000e+00,  0.0000e+00,  0.0000e+00,\n",
       "          0.0000e+00,  0.0000e+00,  0.0000e+00,  0.0000e+00,  0.0000e+00,\n",
       "          0.0000e+00,  0.0000e+00,  0.0000e+00,  0.0000e+00,  0.0000e+00,\n",
       "          0.0000e+00,  0.0000e+00,  0.0000e+00,  0.0000e+00,  0.0000e+00,\n",
       "          0.0000e+00,  0.0000e+00,  0.0000e+00,  0.0000e+00,  0.0000e+00,\n",
       "          0.0000e+00,  0.0000e+00,  0.0000e+00,  0.0000e+00,  0.0000e+00,\n",
       "          0.0000e+00,  0.0000e+00,  0.0000e+00,  0.0000e+00,  0.0000e+00,\n",
       "          0.0000e+00,  0.0000e+00,  0.0000e+00,  0.0000e+00,  0.0000e+00,\n",
       "          0.0000e+00,  0.0000e+00,  0.0000e+00,  0.0000e+00,  0.0000e+00,\n",
       "          0.0000e+00,  0.0000e+00,  0.0000e+00,  0.0000e+00,  0.0000e+00,\n",
       "          0.0000e+00,  0.0000e+00,  0.0000e+00,  0.0000e+00,  0.0000e+00,\n",
       "          0.0000e+00,  0.0000e+00,  0.0000e+00,  0.0000e+00,  0.0000e+00,\n",
       "          0.0000e+00,  0.0000e+00,  0.0000e+00,  0.0000e+00,  0.0000e+00,\n",
       "          0.0000e+00,  0.0000e+00,  0.0000e+00,  0.0000e+00,  0.0000e+00,\n",
       "          0.0000e+00,  0.0000e+00,  0.0000e+00,  0.0000e+00,  0.0000e+00,\n",
       "          0.0000e+00,  0.0000e+00,  0.0000e+00,  0.0000e+00,  0.0000e+00],\n",
       "        dtype=torch.float64),\n",
       " 1)"
      ]
     },
     "execution_count": 18,
     "metadata": {},
     "output_type": "execute_result"
    }
   ],
   "source": [
    "ds[0]"
   ]
  },
  {
   "cell_type": "code",
   "execution_count": null,
   "id": "691a0408-aee5-4149-b250-8ed32d9d3f73",
   "metadata": {},
   "outputs": [],
   "source": []
  }
 ],
 "metadata": {
  "kernelspec": {
   "display_name": "Python 3 (ipykernel)",
   "language": "python",
   "name": "python3"
  },
  "language_info": {
   "codemirror_mode": {
    "name": "ipython",
    "version": 3
   },
   "file_extension": ".py",
   "mimetype": "text/x-python",
   "name": "python",
   "nbconvert_exporter": "python",
   "pygments_lexer": "ipython3",
   "version": "3.9.7"
  }
 },
 "nbformat": 4,
 "nbformat_minor": 5
}

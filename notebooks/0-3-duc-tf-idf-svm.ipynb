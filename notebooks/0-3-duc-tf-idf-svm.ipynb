{
 "cells": [
  {
   "cell_type": "code",
   "execution_count": 2,
   "id": "20fa18c0-24c4-4993-b1b4-f1ec2abc22a4",
   "metadata": {},
   "outputs": [
    {
     "name": "stdout",
     "output_type": "stream",
     "text": [
      "The autoreload extension is already loaded. To reload it, use:\n",
      "  %reload_ext autoreload\n"
     ]
    }
   ],
   "source": [
    "%load_ext autoreload\n",
    "%autoreload 2\n",
    "\n",
    "import pandas as pd"
   ]
  },
  {
   "cell_type": "code",
   "execution_count": 3,
   "id": "254f7712-eec3-4e83-a874-c6433b551b31",
   "metadata": {},
   "outputs": [],
   "source": [
    "df = pd.read_csv(\"../data/raw/train.csv\")"
   ]
  },
  {
   "cell_type": "code",
   "execution_count": 4,
   "id": "5aa7ff85-4106-4005-9014-506d8ab7595e",
   "metadata": {},
   "outputs": [],
   "source": [
    "from src.features.preprocess import preprocess\n",
    "df[\"preproc_text\"] = df[\"text\"].apply(preprocess)"
   ]
  },
  {
   "cell_type": "code",
   "execution_count": 11,
   "id": "dcef269c-3c88-4e4b-864a-149bf818e2cb",
   "metadata": {},
   "outputs": [
    {
     "name": "stdout",
     "output_type": "stream",
     "text": [
      " ... Waited for the band before the Singapore show, met Chris M and got tickets... Nothing you don`t know!\n",
      "waited for the band before the singapore show met chris m and got tickets nothing you do not know\n",
      "neutral\n",
      "===========\n",
      "_indian hehe very true  but you`ve got the color advantage, which the complete americans haven`t\n",
      "hehe very true but you have got the color advantage which the complete americans have not\n",
      "neutral\n",
      "===========\n"
     ]
    }
   ],
   "source": [
    "for row in df.sample(2).itertuples():\n",
    "    print(row.text)\n",
    "    print(row.preproc_text)\n",
    "    print(row.sentiment)\n",
    "    print(\"===========\")"
   ]
  },
  {
   "cell_type": "code",
   "execution_count": 12,
   "id": "042d3189-4718-42bd-aa86-20d55ff14e23",
   "metadata": {},
   "outputs": [],
   "source": [
    "from sklearn.feature_extraction.text import TfidfVectorizer\n",
    "\n",
    "vectorizer = TfidfVectorizer()\n",
    "X = vectorizer.fit_transform(df[\"preproc_text\"])"
   ]
  },
  {
   "cell_type": "code",
   "execution_count": 13,
   "id": "02451668-8f80-4ee0-82dc-165155a4fa7d",
   "metadata": {},
   "outputs": [],
   "source": [
    "from sklearn.preprocessing import LabelEncoder\n",
    "le = LabelEncoder()\n",
    "y = le.fit_transform(df[\"sentiment\"])"
   ]
  },
  {
   "cell_type": "code",
   "execution_count": 33,
   "id": "032b33d7-f493-4c2a-bf55-c988b206fbf6",
   "metadata": {},
   "outputs": [
    {
     "data": {
      "text/plain": [
       "(array([2, 1, 0, ..., 2, 0, 2]),\n",
       " 0        positive\n",
       " 1         neutral\n",
       " 2        negative\n",
       " 3        negative\n",
       " 4        negative\n",
       "            ...   \n",
       " 24727    negative\n",
       " 24728     neutral\n",
       " 24729    positive\n",
       " 24730    negative\n",
       " 24731    positive\n",
       " Name: sentiment, Length: 24732, dtype: object)"
      ]
     },
     "execution_count": 33,
     "metadata": {},
     "output_type": "execute_result"
    }
   ],
   "source": [
    "y, df[\"sentiment\"]"
   ]
  },
  {
   "cell_type": "code",
   "execution_count": 37,
   "id": "f97eaac5-b709-460f-adce-07cb5e2ac345",
   "metadata": {},
   "outputs": [
    {
     "data": {
      "text/plain": [
       "{}"
      ]
     },
     "execution_count": 37,
     "metadata": {},
     "output_type": "execute_result"
    }
   ],
   "source": [
    "le."
   ]
  },
  {
   "cell_type": "code",
   "execution_count": 35,
   "id": "77510446-4fa0-4850-b3a6-1633bef89958",
   "metadata": {},
   "outputs": [],
   "source": [
    "from sklearn.model_selection import train_test_split\n",
    "X_train, X_test, y_train, y_test = train_test_split(\n",
    "    X, y, test_size=0.2, random_state=42)"
   ]
  },
  {
   "cell_type": "code",
   "execution_count": 20,
   "id": "e4902e8f-a8d9-4fd7-abb4-3f3b41f94865",
   "metadata": {},
   "outputs": [
    {
     "data": {
      "text/plain": [
       "SVC()"
      ]
     },
     "execution_count": 20,
     "metadata": {},
     "output_type": "execute_result"
    }
   ],
   "source": [
    "from sklearn.svm import SVC\n",
    "clf = SVC()\n",
    "clf.fit(X_train, y_train)"
   ]
  },
  {
   "cell_type": "code",
   "execution_count": 22,
   "id": "4247e2c6-5dfa-4b27-bb60-0119d6b33f19",
   "metadata": {},
   "outputs": [
    {
     "data": {
      "text/plain": [
       "0.6844552253891247"
      ]
     },
     "execution_count": 22,
     "metadata": {},
     "output_type": "execute_result"
    }
   ],
   "source": [
    "from sklearn.metrics import accuracy_score\n",
    "\n",
    "y_pred = clf.predict(X_val)\n",
    "accuracy_score(y_val, y_pred)"
   ]
  },
  {
   "cell_type": "code",
   "execution_count": 23,
   "id": "9c293a15-534b-4845-8b4f-cefe184fadfb",
   "metadata": {},
   "outputs": [],
   "source": [
    "test_df = pd.read_csv(\"../data/raw/test.csv\")"
   ]
  },
  {
   "cell_type": "code",
   "execution_count": 24,
   "id": "09b3531c-297b-4b27-bf11-897bea3df116",
   "metadata": {},
   "outputs": [],
   "source": [
    "X_test =  vectorizer.transform(test_df[\"text\"].apply(preprocess))"
   ]
  },
  {
   "cell_type": "code",
   "execution_count": 25,
   "id": "ba6870ff-358e-4fd6-a60b-2fb35398c052",
   "metadata": {},
   "outputs": [],
   "source": [
    "y_test_pred =clf.predict(X_test)"
   ]
  },
  {
   "cell_type": "code",
   "execution_count": 38,
   "id": "5ba519a1-3e26-40e2-82f4-cbc546dcd3ae",
   "metadata": {},
   "outputs": [
    {
     "data": {
      "text/html": [
       "<div>\n",
       "<style scoped>\n",
       "    .dataframe tbody tr th:only-of-type {\n",
       "        vertical-align: middle;\n",
       "    }\n",
       "\n",
       "    .dataframe tbody tr th {\n",
       "        vertical-align: top;\n",
       "    }\n",
       "\n",
       "    .dataframe thead th {\n",
       "        text-align: right;\n",
       "    }\n",
       "</style>\n",
       "<table border=\"1\" class=\"dataframe\">\n",
       "  <thead>\n",
       "    <tr style=\"text-align: right;\">\n",
       "      <th></th>\n",
       "      <th>textID</th>\n",
       "      <th>sentiment</th>\n",
       "    </tr>\n",
       "  </thead>\n",
       "  <tbody>\n",
       "    <tr>\n",
       "      <th>0</th>\n",
       "      <td>102f98e5e2</td>\n",
       "      <td>1</td>\n",
       "    </tr>\n",
       "    <tr>\n",
       "      <th>1</th>\n",
       "      <td>033b399113</td>\n",
       "      <td>-1</td>\n",
       "    </tr>\n",
       "    <tr>\n",
       "      <th>2</th>\n",
       "      <td>c125e29be2</td>\n",
       "      <td>1</td>\n",
       "    </tr>\n",
       "    <tr>\n",
       "      <th>3</th>\n",
       "      <td>b91e2b0679</td>\n",
       "      <td>-1</td>\n",
       "    </tr>\n",
       "    <tr>\n",
       "      <th>4</th>\n",
       "      <td>1a46141274</td>\n",
       "      <td>1</td>\n",
       "    </tr>\n",
       "    <tr>\n",
       "      <th>...</th>\n",
       "      <td>...</td>\n",
       "      <td>...</td>\n",
       "    </tr>\n",
       "    <tr>\n",
       "      <th>2743</th>\n",
       "      <td>0bfb1006b9</td>\n",
       "      <td>-1</td>\n",
       "    </tr>\n",
       "    <tr>\n",
       "      <th>2744</th>\n",
       "      <td>f1df499466</td>\n",
       "      <td>-1</td>\n",
       "    </tr>\n",
       "    <tr>\n",
       "      <th>2745</th>\n",
       "      <td>de4da367a4</td>\n",
       "      <td>0</td>\n",
       "    </tr>\n",
       "    <tr>\n",
       "      <th>2746</th>\n",
       "      <td>07a8ec4593</td>\n",
       "      <td>1</td>\n",
       "    </tr>\n",
       "    <tr>\n",
       "      <th>2747</th>\n",
       "      <td>cd06512bbb</td>\n",
       "      <td>-1</td>\n",
       "    </tr>\n",
       "  </tbody>\n",
       "</table>\n",
       "<p>2748 rows × 2 columns</p>\n",
       "</div>"
      ],
      "text/plain": [
       "          textID  sentiment\n",
       "0     102f98e5e2          1\n",
       "1     033b399113         -1\n",
       "2     c125e29be2          1\n",
       "3     b91e2b0679         -1\n",
       "4     1a46141274          1\n",
       "...          ...        ...\n",
       "2743  0bfb1006b9         -1\n",
       "2744  f1df499466         -1\n",
       "2745  de4da367a4          0\n",
       "2746  07a8ec4593          1\n",
       "2747  cd06512bbb         -1\n",
       "\n",
       "[2748 rows x 2 columns]"
      ]
     },
     "execution_count": 38,
     "metadata": {},
     "output_type": "execute_result"
    }
   ],
   "source": [
    "target_conversion = {\n",
    "    0: -1,\n",
    "    1: 0,\n",
    "    2: 1\n",
    "}\n",
    "submission_df = pd.DataFrame({\"textID\": test_df[\"textID\"], \"sentiment\": y_test_pred})\n",
    "submission_df[\"sentiment\"] = submission_df['sentiment'].map(target_conversion)\n",
    "submission_df"
   ]
  },
  {
   "cell_type": "code",
   "execution_count": 39,
   "id": "967fc552-16cc-4727-ab04-b5632b4ca523",
   "metadata": {},
   "outputs": [],
   "source": [
    "submission_df.to_csv(\"submission_svm.csv\", index=False)"
   ]
  },
  {
   "cell_type": "code",
   "execution_count": 40,
   "id": "25e699a6-5bb7-4651-93ea-b730aa29df45",
   "metadata": {},
   "outputs": [
    {
     "name": "stdout",
     "output_type": "stream",
     "text": [
      "Warning: Your Kaggle API key is readable by other users on this system! To fix this, you can run 'chmod 600 /root/.kaggle/kaggle.json'\n",
      "100%|██████████████████████████████████████| 35.4k/35.4k [00:00<00:00, 71.7kB/s]\n",
      "Successfully submitted to EURECOM AML 2022:: Challenge 3"
     ]
    }
   ],
   "source": [
    "!kaggle competitions submit -c eurecom-aml-2022-challenge-3 -f submission_svm.csv -m \"SVM + tf-idf\""
   ]
  },
  {
   "cell_type": "code",
   "execution_count": null,
   "id": "6867c4cf-a0a8-4f09-9313-9cbe80345b28",
   "metadata": {},
   "outputs": [],
   "source": []
  }
 ],
 "metadata": {
  "kernelspec": {
   "display_name": "Python 3 (ipykernel)",
   "language": "python",
   "name": "python3"
  },
  "language_info": {
   "codemirror_mode": {
    "name": "ipython",
    "version": 3
   },
   "file_extension": ".py",
   "mimetype": "text/x-python",
   "name": "python",
   "nbconvert_exporter": "python",
   "pygments_lexer": "ipython3",
   "version": "3.8.12"
  }
 },
 "nbformat": 4,
 "nbformat_minor": 5
}

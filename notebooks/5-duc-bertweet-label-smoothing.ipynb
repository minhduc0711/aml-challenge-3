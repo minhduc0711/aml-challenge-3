{
 "cells": [
  {
   "cell_type": "markdown",
   "id": "11b6f483-395f-45d8-ba7c-8975d7407638",
   "metadata": {},
   "source": [
    "The full codebase is available at https://github.com/minhduc0711/aml-challenge-3/. \n",
    "This is only the notebook for fine-tuning BERTweet, our best-performing approach."
   ]
  },
  {
   "cell_type": "code",
   "execution_count": 16,
   "id": "d7208bae-fe8b-4d68-a5a5-e6226afc544a",
   "metadata": {},
   "outputs": [
    {
     "name": "stdout",
     "output_type": "stream",
     "text": [
      "The autoreload extension is already loaded. To reload it, use:\n",
      "  %reload_ext autoreload\n"
     ]
    }
   ],
   "source": [
    "%load_ext autoreload\n",
    "%autoreload 2"
   ]
  },
  {
   "cell_type": "code",
   "execution_count": 24,
   "id": "c2a243e6-9afb-4592-b428-a11b53d54fe2",
   "metadata": {},
   "outputs": [
    {
     "data": {
      "text/plain": [
       "'i hope my morning show does not get cancelled'"
      ]
     },
     "execution_count": 24,
     "metadata": {},
     "output_type": "execute_result"
    }
   ],
   "source": [
    "from emoji import demojize\n",
    "from nltk.tokenize import TweetTokenizer\n",
    "from src.features.preprocess import preprocess\n",
    "\n",
    "tokenizer_tweet = TweetTokenizer()\n",
    "\n",
    "\n",
    "def normalizeToken(token):\n",
    "    if len(token) == 1:\n",
    "        token = demojize(token)\n",
    "    return token\n",
    "\n",
    "def normalizeTweet(tweet):\n",
    "    tokens = tokenizer_tweet.tokenize(tweet.replace(\"’\", \"'\").replace(\"…\", \"...\").replace(\"`\", \"'\"))\n",
    "\n",
    "    normTweet = \" \".join([normalizeToken(token) for token in tokens])\n",
    "    normTweet = preprocess(normTweet)\n",
    "\n",
    "    return \" \".join(normTweet.split())\n",
    "\n",
    "text = \"i hope my morning show doesn`t get cancelled!\"\n",
    "normalizeTweet(text)"
   ]
  },
  {
   "cell_type": "code",
   "execution_count": 25,
   "id": "a582c855-f155-456e-87cc-bb07751594d6",
   "metadata": {},
   "outputs": [
    {
     "name": "stderr",
     "output_type": "stream",
     "text": [
      "Special tokens have been added in the vocabulary, make sure the associated word embeddings are fine-tuned or trained.\n"
     ]
    }
   ],
   "source": [
    "from transformers import AutoTokenizer\n",
    "import os\n",
    "\n",
    "MODEL_NAME = \"vinai/bertweet-base\"\n",
    "\n",
    "tokenizer = AutoTokenizer.from_pretrained(MODEL_NAME)\n",
    "# tokenizer = AutoTokenizer.from_pretrained(\"bert-base-uncased\")\n",
    "\n",
    "os.environ[\"TOKENIZERS_PARALLELISM\"] = \"false\"\n",
    "def tokenize_function(examples):\n",
    "    return tokenizer.encode_plus(examples, \n",
    "                                 padding=\"max_length\", max_length=40, truncation=True,\n",
    "                                add_special_tokens=True,        # Add `[CLS]` and `[SEP]`\n",
    "                                return_attention_mask=True)"
   ]
  },
  {
   "cell_type": "code",
   "execution_count": 19,
   "id": "ef09186e-9b8b-4c22-a7e4-5a02e1353329",
   "metadata": {},
   "outputs": [],
   "source": [
    "from src.data.data_module import TextDataModule\n",
    "from src.features.preprocess import preprocess\n",
    "\n",
    "dm = TextDataModule(preprocess_fn=normalizeTweet, vectorizer_fn=tokenize_function, tokenize_fn=None, \n",
    "                    batch_size=8, \n",
    "                    num_workers=8)"
   ]
  },
  {
   "cell_type": "code",
   "execution_count": 26,
   "id": "cd1954b1-b84d-45cc-872e-f6ef7d5b6a29",
   "metadata": {},
   "outputs": [
    {
     "name": "stderr",
     "output_type": "stream",
     "text": [
      "Some weights of the model checkpoint at vinai/bertweet-base were not used when initializing RobertaModel: ['lm_head.bias', 'lm_head.decoder.weight', 'lm_head.layer_norm.bias', 'lm_head.layer_norm.weight', 'lm_head.decoder.bias', 'lm_head.dense.weight', 'lm_head.dense.bias']\n",
      "- This IS expected if you are initializing RobertaModel from the checkpoint of a model trained on another task or with another architecture (e.g. initializing a BertForSequenceClassification model from a BertForPreTraining model).\n",
      "- This IS NOT expected if you are initializing RobertaModel from the checkpoint of a model that you expect to be exactly identical (initializing a BertForSequenceClassification model from a BertForSequenceClassification model).\n",
      "GPU available: True, used: True\n",
      "TPU available: False, using: 0 TPU cores\n",
      "IPU available: False, using: 0 IPUs\n",
      "HPU available: False, using: 0 HPUs\n",
      "LOCAL_RANK: 0 - CUDA_VISIBLE_DEVICES: [0]\n",
      "\n",
      "  | Name       | Type             | Params\n",
      "------------------------------------------------\n",
      "0 | bert       | RobertaModel     | 134 M \n",
      "1 | classifier | Sequential       | 77.2 K\n",
      "2 | loss_fn    | CrossEntropyLoss | 0     \n",
      "3 | accuracy   | Accuracy         | 0     \n",
      "------------------------------------------------\n",
      "134 M     Trainable params\n",
      "0         Non-trainable params\n",
      "134 M     Total params\n",
      "539.909   Total estimated model params size (MB)\n"
     ]
    },
    {
     "data": {
      "application/vnd.jupyter.widget-view+json": {
       "model_id": "",
       "version_major": 2,
       "version_minor": 0
      },
      "text/plain": [
       "Sanity Checking: 0it [00:00, ?it/s]"
      ]
     },
     "metadata": {},
     "output_type": "display_data"
    },
    {
     "name": "stderr",
     "output_type": "stream",
     "text": [
      "/opt/conda/lib/python3.8/site-packages/torchmetrics/utilities/prints.py:36: UserWarning: Torchmetrics v0.9 introduced a new argument class property called `full_state_update` that has\n",
      "                not been set for this class (_ResultMetric). The property determines if `update` by\n",
      "                default needs access to the full metric state. If this is not the case, significant speedups can be\n",
      "                achieved and we recommend setting this to `False`.\n",
      "                We provide an checking function\n",
      "                `from torchmetrics.utilities import check_forward_no_full_state`\n",
      "                that can be used to check if the `full_state_update=True` (old and potential slower behaviour,\n",
      "                default for now) or if `full_state_update=False` can be used safely.\n",
      "                \n",
      "  warnings.warn(*args, **kwargs)\n",
      "/opt/conda/lib/python3.8/site-packages/pytorch_lightning/utilities/data.py:72: UserWarning: Trying to infer the `batch_size` from an ambiguous collection. The batch size we found is 8. To avoid any miscalculations, use `self.log(..., batch_size=batch_size)`.\n",
      "  warning_cache.warn(\n"
     ]
    },
    {
     "data": {
      "application/vnd.jupyter.widget-view+json": {
       "model_id": "e07d6add534d440cac5cdbca0022cebf",
       "version_major": 2,
       "version_minor": 0
      },
      "text/plain": [
       "Training: 0it [00:00, ?it/s]"
      ]
     },
     "metadata": {},
     "output_type": "display_data"
    },
    {
     "data": {
      "application/vnd.jupyter.widget-view+json": {
       "model_id": "",
       "version_major": 2,
       "version_minor": 0
      },
      "text/plain": [
       "Validation: 0it [00:00, ?it/s]"
      ]
     },
     "metadata": {},
     "output_type": "display_data"
    },
    {
     "name": "stderr",
     "output_type": "stream",
     "text": [
      "/opt/conda/lib/python3.8/site-packages/pytorch_lightning/utilities/data.py:72: UserWarning: Trying to infer the `batch_size` from an ambiguous collection. The batch size we found is 2. To avoid any miscalculations, use `self.log(..., batch_size=batch_size)`.\n",
      "  warning_cache.warn(\n"
     ]
    },
    {
     "data": {
      "application/vnd.jupyter.widget-view+json": {
       "model_id": "",
       "version_major": 2,
       "version_minor": 0
      },
      "text/plain": [
       "Validation: 0it [00:00, ?it/s]"
      ]
     },
     "metadata": {},
     "output_type": "display_data"
    }
   ],
   "source": [
    "import torch\n",
    "import torch.nn as nn\n",
    "import torchmetrics\n",
    "import pytorch_lightning as pl\n",
    "\n",
    "from transformers import get_scheduler\n",
    "from transformers import AutoModel\n",
    "\n",
    "class BERTClassifier(pl.LightningModule):\n",
    "    def __init__(self, num_training_steps, num_labels=3, h_dim=50):\n",
    "        super().__init__()\n",
    "        \n",
    "        \n",
    "        self.num_training_steps = num_training_steps\n",
    "        # self.batch_keys_keep = ['labels', y'input_ids', 'token_type_ids', 'attention_mask']\n",
    "        self.batch_keys_keep = ['input_ids', 'token_type_ids', 'attention_mask']\n",
    "        self.bert = AutoModel.from_pretrained(MODEL_NAME)\n",
    "        self.classifier = nn.Sequential(\n",
    "            nn.Linear(768, h_dim),\n",
    "            nn.ReLU(),\n",
    "            nn.Linear(h_dim, num_labels)\n",
    "        )\n",
    "        \n",
    "        # self.loss_fn = nn.CrossEntropyLoss(label_smoothing=0.0)\n",
    "        self.loss_fn = nn.CrossEntropyLoss()\n",
    "        self.accuracy = torchmetrics.Accuracy()\n",
    "        \n",
    "    def forward(self, x):\n",
    "        x = self.bert(**x)[1]\n",
    "        return self.classifier(x)\n",
    "        \n",
    "    def training_step(self, batch, batch_idx):\n",
    "        y = batch[\"labels\"]\n",
    "        batch = self.filter_batch(batch)\n",
    "        y_hat = self(batch)\n",
    "        \n",
    "        loss = self.loss_fn(y_hat, y)\n",
    "        acc = self.accuracy(y_hat, y)\n",
    "        \n",
    "        self.log(\"train/loss\", loss)\n",
    "        self.log(\"train/acc\", acc)\n",
    "        return loss\n",
    "\n",
    "    def validation_step(self, batch, batch_idx):\n",
    "        y = batch[\"labels\"] \n",
    "        batch = self.filter_batch(batch)\n",
    "        y_hat = self(batch)\n",
    "        \n",
    "        val_loss = self.loss_fn(y_hat, y)\n",
    "        acc = self.accuracy(y_hat, y)\n",
    "        self.log(\"val/loss\", val_loss)\n",
    "        self.log(\"val/acc\", acc)\n",
    "\n",
    "    def configure_optimizers(self):\n",
    "        optimizer = torch.optim.AdamW(model.parameters(), lr=2e-5)\n",
    "        lr_scheduler = get_scheduler(\n",
    "            name=\"linear\", optimizer=optimizer, num_warmup_steps=0, \n",
    "            num_training_steps=self.num_training_steps\n",
    "        )\n",
    "\n",
    "        return [optimizer], [lr_scheduler]\n",
    "                \n",
    "    def filter_batch(self, batch):\n",
    "        return {k: batch[k] for k in batch.keys() if k in self.batch_keys_keep}\n",
    "    \n",
    "num_epochs = 2\n",
    "num_training_steps = num_epochs * len(dm.train_dataloader())\n",
    "\n",
    "model = BERTClassifier(num_training_steps, h_dim=100)\n",
    "logger = pl.loggers.TensorBoardLogger(\"lightning_logs\", name=\"bertweet-label-smooth\")\n",
    "trainer = pl.Trainer(accelerator=\"gpu\",\n",
    "                     logger=logger,\n",
    "                     max_epochs=num_epochs,\n",
    "                     enable_checkpointing=False,\n",
    "                    )\n",
    "trainer.fit(model=model, datamodule=dm)"
   ]
  },
  {
   "cell_type": "code",
   "execution_count": 27,
   "id": "331a39be-6b3d-4ce2-a5e2-5387c69e9142",
   "metadata": {},
   "outputs": [
    {
     "data": {
      "application/vnd.jupyter.widget-view+json": {
       "model_id": "05be85c6407240bda5c1d70fd7a7619a",
       "version_major": 2,
       "version_minor": 0
      },
      "text/plain": [
       "  0%|          | 0/619 [00:00<?, ?it/s]"
      ]
     },
     "metadata": {},
     "output_type": "display_data"
    }
   ],
   "source": [
    "from tqdm.auto import tqdm\n",
    "import torch.nn.functional as F\n",
    "preds = []\n",
    "actuals = []\n",
    "probas = []\n",
    "model.eval()\n",
    "model.cuda()\n",
    "for batch in tqdm(dm.val_dataloader()):\n",
    "    with torch.no_grad():\n",
    "        actuals.append(batch[\"labels\"])\n",
    "        batch = model.filter_batch(batch)\n",
    "        batch = {k: v.cuda() for k,v in batch.items()}\n",
    "        outputs = model(batch)\n",
    "        preds.append(torch.argmax(outputs, dim=1))\n",
    "\n",
    "        probas.append(F.softmax(outputs, dim=1))\n",
    "\n",
    "preds = torch.cat(preds)\n",
    "actuals = torch.cat(actuals)\n",
    "probas = torch.cat(probas)"
   ]
  },
  {
   "cell_type": "code",
   "execution_count": 32,
   "id": "9aca297d-fadc-410c-a51c-784bd0c2c670",
   "metadata": {},
   "outputs": [
    {
     "name": "stdout",
     "output_type": "stream",
     "text": [
      "0.7978164173069147\n"
     ]
    },
    {
     "data": {
      "image/png": "[encoded data removed]",
      "text/plain": [
       "<Figure size 432x288 with 2 Axes>"
      ]
     },
     "metadata": {
      "needs_background": "light"
     },
     "output_type": "display_data"
    }
   ],
   "source": [
    "from sklearn.metrics import confusion_matrix, ConfusionMatrixDisplay, accuracy_score\n",
    "\n",
    "labels = [\"neutral\", \"positive\", \"negative\"]\n",
    "cm = confusion_matrix(actuals.cpu().numpy(), preds.cpu().numpy())\n",
    "disp = ConfusionMatrixDisplay(confusion_matrix=cm, display_labels=labels)\n",
    "disp.plot()\n",
    "print(accuracy_score(actuals.cpu(), preds.cpu()))"
   ]
  },
  {
   "cell_type": "code",
   "execution_count": 49,
   "id": "7650e926-ef26-439f-b096-4b88b5ae1c7f",
   "metadata": {},
   "outputs": [
    {
     "data": {
      "text/plain": [
       "(tensor([0.0184, 0.9777, 0.0040], device='cuda:0'),\n",
       " {'text': 'Repeat final seconds of Game 3 Dal-Den please! **** THOSE OFFICIALS. :| Anyway, happy mothers day.',\n",
       "  'labels': tensor(0),\n",
       "  'preproc_text': 'repeat final seconds of game dal den please those officials anyway happy mothers day',\n",
       "  'input_ids': tensor([    0,  4116,  1222,  1971,    15,   212, 27789,  2745,   183,   268,\n",
       "           5215,  1361,   225,  7869,    93,     2,     1,     1,     1,     1,\n",
       "              1,     1,     1,     1,     1,     1,     1,     1,     1,     1,\n",
       "              1,     1,     1,     1,     1,     1,     1,     1,     1,     1]),\n",
       "  'token_type_ids': tensor([0, 0, 0, 0, 0, 0, 0, 0, 0, 0, 0, 0, 0, 0, 0, 0, 0, 0, 0, 0, 0, 0, 0, 0,\n",
       "          0, 0, 0, 0, 0, 0, 0, 0, 0, 0, 0, 0, 0, 0, 0, 0]),\n",
       "  'attention_mask': tensor([1, 1, 1, 1, 1, 1, 1, 1, 1, 1, 1, 1, 1, 1, 1, 1, 0, 0, 0, 0, 0, 0, 0, 0,\n",
       "          0, 0, 0, 0, 0, 0, 0, 0, 0, 0, 0, 0, 0, 0, 0, 0])})"
      ]
     },
     "execution_count": 49,
     "metadata": {},
     "output_type": "execute_result"
    }
   ],
   "source": [
    "idx = 49\n",
    "probas[idx], dm.subsets[\"val\"][idx]"
   ]
  },
  {
   "cell_type": "code",
   "execution_count": 36,
   "id": "95a8ba56-3ce0-4e4f-917b-1fe1fd429563",
   "metadata": {},
   "outputs": [
    {
     "data": {
      "text/plain": [
       "(array([  23,   33,   44,   49,   95,   96,  122,  147,  180,  183,  206,\n",
       "         209,  210,  213,  227,  270,  275,  335,  336,  366,  374,  385,\n",
       "         434,  443,  452,  474,  475,  487,  503,  526,  533,  541,  565,\n",
       "         573,  587,  599,  619,  635,  689,  706,  767,  776,  812,  822,\n",
       "         826,  855,  860,  868,  875,  884,  888,  907,  916,  934,  947,\n",
       "         974, 1010, 1017, 1023, 1039, 1058, 1065, 1069, 1102, 1108, 1163,\n",
       "        1165, 1198, 1209, 1233, 1324, 1326, 1335, 1339, 1393, 1395, 1403,\n",
       "        1456, 1491, 1505, 1513, 1525, 1533, 1578, 1604, 1618, 1649, 1650,\n",
       "        1718, 1732, 1742, 1750, 1752, 1795, 1797, 1846, 1853, 1874, 1875,\n",
       "        1914, 1944, 1959, 1980, 2018, 2041, 2043, 2131, 2156, 2162, 2208,\n",
       "        2213, 2226, 2260, 2264, 2278, 2281, 2284, 2295, 2311, 2320, 2326,\n",
       "        2335, 2343, 2349, 2403, 2405, 2418, 2432, 2452, 2453, 2480, 2489,\n",
       "        2506, 2546, 2577, 2585, 2603, 2609, 2620, 2630, 2664, 2673, 2676,\n",
       "        2697, 2698, 2703, 2766, 2783, 2794, 2816, 2836, 2860, 2870, 2913,\n",
       "        2917, 2921, 2932, 2936, 2973, 3003, 3013, 3023, 3030, 3063, 3069,\n",
       "        3078, 3092, 3113, 3123, 3129, 3155, 3177, 3247, 3279, 3294, 3299,\n",
       "        3341, 3375, 3398, 3406, 3415, 3422, 3441, 3442, 3450, 3453, 3476,\n",
       "        3543, 3553, 3570, 3600, 3628, 3667, 3703, 3709, 3746, 3777, 3780,\n",
       "        3796, 3816, 3822, 3862, 3867, 3868, 3876, 3897, 3942, 4003, 4009,\n",
       "        4010, 4019, 4094, 4098, 4128, 4159, 4165, 4175, 4188, 4191, 4195,\n",
       "        4250, 4259, 4265, 4284, 4315, 4329, 4367, 4394, 4477, 4478, 4481,\n",
       "        4493, 4501, 4536, 4558, 4570, 4575, 4576, 4592, 4604, 4636, 4653,\n",
       "        4662, 4688, 4709, 4730, 4779, 4782, 4801, 4811, 4834, 4850, 4903]),)"
      ]
     },
     "execution_count": 36,
     "metadata": {},
     "output_type": "execute_result"
    }
   ],
   "source": [
    "import numpy as np\n",
    "np.where((preds.cpu().numpy() == 1) & (actuals.cpu().numpy() == 0) )"
   ]
  },
  {
   "cell_type": "code",
   "execution_count": 45,
   "id": "ed46f300-77dd-4a01-97b8-42697ee9a338",
   "metadata": {},
   "outputs": [
    {
     "data": {
      "text/plain": [
       "array([0.99245185, 0.99223775, 0.99237627, ..., 0.99248815, 0.96083903,\n",
       "       0.99324   ], dtype=float32)"
      ]
     },
     "execution_count": 45,
     "metadata": {},
     "output_type": "execute_result"
    }
   ],
   "source": [
    "probas[true_pos_idxs, 1].cpu().numpy().squeeze()"
   ]
  },
  {
   "cell_type": "code",
   "execution_count": 55,
   "id": "844c0367-1a0a-4ba8-918f-6a6bc66c11f4",
   "metadata": {},
   "outputs": [
    {
     "data": {
      "text/plain": [
       "<AxesSubplot:ylabel='Count'>"
      ]
     },
     "execution_count": 55,
     "metadata": {},
     "output_type": "execute_result"
    },
    {
     "data": {
      "image/png": "[encoded data removed]",
      "text/plain": [
       "<Figure size 1080x288 with 2 Axes>"
      ]
     },
     "metadata": {
      "needs_background": "light"
     },
     "output_type": "display_data"
    }
   ],
   "source": [
    "true_pos_idxs = np.where((preds.cpu().numpy() == 1) & (actuals.cpu().numpy() == 0))\n",
    "p_pos = probas[true_pos_idxs, 1].cpu().numpy().squeeze()\n",
    "p_neu = probas[true_pos_idxs, 0].cpu().numpy().squeeze()\n",
    "import seaborn as sns\n",
    "import matplotlib.pyplot as plt\n",
    "\n",
    "fig, axs = plt.subplots(ncols=2, figsize=(15, 4))\n",
    "sns.histplot(p_pos, ax=axs[0])\n",
    "sns.histplot(p_neu, ax=axs[1])"
   ]
  },
  {
   "cell_type": "code",
   "execution_count": 7,
   "id": "96b2003c-e1f8-4a8c-928c-f5ce049223bf",
   "metadata": {},
   "outputs": [
    {
     "data": {
      "application/vnd.jupyter.widget-view+json": {
       "model_id": "2fa23d9e226643e5b74a9edc800316f1",
       "version_major": 2,
       "version_minor": 0
      },
      "text/plain": [
       "  0%|          | 0/344 [00:00<?, ?it/s]"
      ]
     },
     "metadata": {},
     "output_type": "display_data"
    }
   ],
   "source": [
    "from tqdm.auto import tqdm\n",
    "preds_test = []\n",
    "model.cuda()\n",
    "model.eval()\n",
    "for batch in tqdm(dm.test_dataloader()):\n",
    "    with torch.no_grad():\n",
    "        batch = model.filter_batch(batch)\n",
    "        batch = {k: v.cuda() for k,v in batch.items()}\n",
    "        outputs = model(batch)\n",
    "        preds_test.append(torch.argmax(outputs, dim=1))\n",
    "preds_test = torch.cat(preds_test)"
   ]
  },
  {
   "cell_type": "code",
   "execution_count": 8,
   "id": "7f6402ca-ca96-4179-9c1e-8f653dc9a7fc",
   "metadata": {},
   "outputs": [
    {
     "data": {
      "text/html": [
       "<div>\n",
       "<style scoped>\n",
       "    .dataframe tbody tr th:only-of-type {\n",
       "        vertical-align: middle;\n",
       "    }\n",
       "\n",
       "    .dataframe tbody tr th {\n",
       "        vertical-align: top;\n",
       "    }\n",
       "\n",
       "    .dataframe thead th {\n",
       "        text-align: right;\n",
       "    }\n",
       "</style>\n",
       "<table border=\"1\" class=\"dataframe\">\n",
       "  <thead>\n",
       "    <tr style=\"text-align: right;\">\n",
       "      <th></th>\n",
       "      <th>textID</th>\n",
       "      <th>text</th>\n",
       "      <th>selected_text</th>\n",
       "    </tr>\n",
       "  </thead>\n",
       "  <tbody>\n",
       "    <tr>\n",
       "      <th>0</th>\n",
       "      <td>102f98e5e2</td>\n",
       "      <td>Happy Mother`s Day hahaha</td>\n",
       "      <td>Happy Mother`s Day</td>\n",
       "    </tr>\n",
       "    <tr>\n",
       "      <th>1</th>\n",
       "      <td>033b399113</td>\n",
       "      <td>Sorry for the triple twitter post, was having ...</td>\n",
       "      <td>Sorry for the triple twitter post, was having ...</td>\n",
       "    </tr>\n",
       "    <tr>\n",
       "      <th>2</th>\n",
       "      <td>c125e29be2</td>\n",
       "      <td>thats much better than the flu syndrome!</td>\n",
       "      <td>thats much better</td>\n",
       "    </tr>\n",
       "    <tr>\n",
       "      <th>3</th>\n",
       "      <td>b91e2b0679</td>\n",
       "      <td>Aww I have a tummy ache</td>\n",
       "      <td>tummy ache</td>\n",
       "    </tr>\n",
       "    <tr>\n",
       "      <th>4</th>\n",
       "      <td>1a46141274</td>\n",
       "      <td>hey chocolate chips is good.  i want a snack ...</td>\n",
       "      <td>good.</td>\n",
       "    </tr>\n",
       "  </tbody>\n",
       "</table>\n",
       "</div>"
      ],
      "text/plain": [
       "       textID                                               text  \\\n",
       "0  102f98e5e2                          Happy Mother`s Day hahaha   \n",
       "1  033b399113  Sorry for the triple twitter post, was having ...   \n",
       "2  c125e29be2           thats much better than the flu syndrome!   \n",
       "3  b91e2b0679                            Aww I have a tummy ache   \n",
       "4  1a46141274   hey chocolate chips is good.  i want a snack ...   \n",
       "\n",
       "                                       selected_text  \n",
       "0                                 Happy Mother`s Day  \n",
       "1  Sorry for the triple twitter post, was having ...  \n",
       "2                                  thats much better  \n",
       "3                                         tummy ache  \n",
       "4                                              good.  "
      ]
     },
     "execution_count": 8,
     "metadata": {},
     "output_type": "execute_result"
    }
   ],
   "source": [
    "import pandas as pd\n",
    "df_test = pd.read_csv(\"../data/raw/test.csv\")\n",
    "df_test.head()"
   ]
  },
  {
   "cell_type": "code",
   "execution_count": 9,
   "id": "8e65d4eb-6070-4e25-a9e5-cca4ec6d6e93",
   "metadata": {},
   "outputs": [],
   "source": [
    "from src.utils import create_submission\n",
    "create_submission(df_test, preds_test.cpu())"
   ]
  },
  {
   "cell_type": "code",
   "execution_count": 11,
   "id": "be3a5274-ba10-4327-9d5c-491935d770c6",
   "metadata": {},
   "outputs": [
    {
     "name": "stdout",
     "output_type": "stream",
     "text": [
      "Warning: Your Kaggle API key is readable by other users on this system! To fix this, you can run 'chmod 600 /root/.kaggle/kaggle.json'\n",
      "100%|██████████████████████████████████████| 35.6k/35.6k [00:00<00:00, 75.0kB/s]\n",
      "Successfully submitted to EURECOM AML 2022:: Challenge 3"
     ]
    }
   ],
   "source": [
    "!kaggle competitions submit -c eurecom-aml-2022-challenge-3 -f submission.csv -m \"BERTweet with full train set\""
   ]
  }
 ],
 "metadata": {
  "kernelspec": {
   "display_name": "Python 3 (ipykernel)",
   "language": "python",
   "name": "python3"
  },
  "language_info": {
   "codemirror_mode": {
    "name": "ipython",
    "version": 3
   },
   "file_extension": ".py",
   "mimetype": "text/x-python",
   "name": "python",
   "nbconvert_exporter": "python",
   "pygments_lexer": "ipython3",
   "version": "3.8.12"
  }
 },
 "nbformat": 4,
 "nbformat_minor": 5
}

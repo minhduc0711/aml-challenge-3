{
 "cells": [
  {
   "cell_type": "code",
   "execution_count": 4,
   "id": "1221075b-623e-49fa-99b8-b1c8e0cc4b46",
   "metadata": {},
   "outputs": [],
   "source": [
    "import pandas as pd\n",
    "import numpy as np\n",
    "import matplotlib.pyplot as plt"
   ]
  },
  {
   "cell_type": "code",
   "execution_count": 3,
   "id": "e6131c20-e217-4bb6-8caf-0cc4cc83fcdd",
   "metadata": {},
   "outputs": [],
   "source": [
    "df_train = pd.read_csv(\"../data/raw/train.csv\")\n",
    "df_test = pd.read_csv(\"../data/raw/test.csv\")\n",
    "\n"
   ]
  },
  {
   "cell_type": "code",
   "execution_count": 14,
   "id": "9e8ae328-7dcb-4da0-8e09-e5c1a33b74a8",
   "metadata": {},
   "outputs": [
    {
     "data": {
      "text/plain": [
       "<AxesSubplot:>"
      ]
     },
     "execution_count": 14,
     "metadata": {},
     "output_type": "execute_result"
    },
    {
     "data": {
      "image/png": "[encoded data removed]",
      "text/plain": [
       "<Figure size 600x400 with 1 Axes>"
      ]
     },
     "metadata": {
      "needs_background": "light"
     },
     "output_type": "display_data"
    }
   ],
   "source": [
    "fig = plt.figure(dpi=100) # Create matplotlib figure\n",
    "\n",
    "ax = fig.add_subplot(111) # Create matplotlib axes\n",
    "# ax2 = ax.twinx() # Create another axes that shares the same x-axis a ax.\n",
    "# ax.set_title(\"Class distribution in training set\")\n",
    "df_train['sentiment'].value_counts().plot(kind='bar', rot=0, ax=ax)\n",
    "# df_test['sentiment'].value_counts().plot(kind='bar', rot=0, ax=ax2)"
   ]
  },
  {
   "cell_type": "code",
   "execution_count": null,
   "id": "fd8904b6-3efb-462f-973e-34a566e2eeff",
   "metadata": {},
   "outputs": [],
   "source": [
    "from nltk.corpus import stopwords\n",
    "from nltk.tokenize import word_tokenize\n",
    "\n",
    "stop_words = set(stopwords.words('english'))"
   ]
  },
  {
   "cell_type": "code",
   "execution_count": 74,
   "id": "9ec586c4-efd7-4a3c-ad2f-f54c6eaa1d56",
   "metadata": {},
   "outputs": [],
   "source": [
    "from src.features.preprocess import w\n",
    "df[\"preproc_text\"] = df[\"text\"].apply(preprocess)"
   ]
  },
  {
   "cell_type": "code",
   "execution_count": 75,
   "id": "e74ac191-2a2c-4310-9095-033024201c74",
   "metadata": {},
   "outputs": [
    {
     "name": "stdout",
     "output_type": "stream",
     "text": [
      "And I just saw something real sad on my lunch... A dog with two broken back legs.\n",
      "saw something real sad lunch dog two broken back legs\n",
      "===========\n",
      "Follow Friday rickbaker24 i only have 6 friends\n",
      "follow friday rickbaker24 friends\n",
      "===========\n",
      "Feels like im going to cough up a lung\n",
      "feels like going cough lung\n",
      "===========\n",
      " aww... sorry for both of you.  May the LORD give you strength and rest today!\n",
      "aww sorry lord give strength rest today\n",
      "===========\n",
      " Poor Buddy, being teased by mini puggy  I think what you need is a #PUGHUG\n",
      "poor teased mini puggy think need pughug\n",
      "===========\n",
      "#bgt Can`t watch anymore\n",
      "bgt not watch anymore\n",
      "===========\n",
      "Good morning ladies and Gents.  it`s going to be an awesome day 'even though the weather is terrible'\n",
      "good morning ladies gents going awesome day even though weather terrible\n",
      "===========\n",
      "Wicked, my DVB-S tuner card has arrived. Although not sure I`ll be able to get it all set up ready for the FA Cup final tomorrow\n",
      "wicked dvb tuner card arrived although not sure able get set ready fa cup final tomorrow\n",
      "===========\n",
      "Just saw Star Trek with the boo.. Now off to bed! Never again will I go to a Vallejo theater. hAppy mOthErs dAy to all!! I love my mommy\n",
      "saw trek boo bed never go vallejo theater happy mothers day love mommy\n",
      "===========\n",
      "Yay we`re gonna leave earlier!  Can`t wait to get back to Hawthorne!\n",
      "yay going leave earlier not wait get back hawthorne\n",
      "===========\n"
     ]
    }
   ],
   "source": [
    "for row in df.sample(10).itertuples():\n",
    "    print(row.text)\n",
    "    print(row.preproc_text)\n",
    "    print(\"===========\")"
   ]
  },
  {
   "cell_type": "code",
   "execution_count": null,
   "id": "c20f83a1-6984-4a7f-ae8c-dd1c50a24a77",
   "metadata": {},
   "outputs": [
    {
     "data": {
      "text/plain": [
       "<matplotlib.image.AxesImage at 0x7fa8b1308550>"
      ]
     },
     "execution_count": 19,
     "metadata": {},
     "output_type": "execute_result"
    }
   ],
   "source": [
    "import matplotlib.image as mpimg\n",
    "fig, axs = plt.subplots(ncols=3, figsize=(30, 10))\n",
    "\n",
    "axs[0].imshow( mpimg.imread(\"word_pos.png\"))"
   ]
  }
 ],
 "metadata": {
  "kernelspec": {
   "display_name": "Python 3 (ipykernel)",
   "language": "python",
   "name": "python3"
  },
  "language_info": {
   "codemirror_mode": {
    "name": "ipython",
    "version": 3
   },
   "file_extension": ".py",
   "mimetype": "text/x-python",
   "name": "python",
   "nbconvert_exporter": "python",
   "pygments_lexer": "ipython3",
   "version": "3.8.12"
  }
 },
 "nbformat": 4,
 "nbformat_minor": 5
}

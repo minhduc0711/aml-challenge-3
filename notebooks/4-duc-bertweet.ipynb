{
 "cells": [
  {
   "cell_type": "code",
   "execution_count": 1,
   "id": "d7208bae-fe8b-4d68-a5a5-e6226afc544a",
   "metadata": {},
   "outputs": [],
   "source": [
    "%load_ext autoreload\n",
    "%autoreload 2"
   ]
  },
  {
   "cell_type": "code",
   "execution_count": 29,
   "id": "a582c855-f155-456e-87cc-bb07751594d6",
   "metadata": {},
   "outputs": [
    {
     "name": "stderr",
     "output_type": "stream",
     "text": [
      "Special tokens have been added in the vocabulary, make sure the associated word embeddings are fine-tuned or trained.\n"
     ]
    }
   ],
   "source": [
    "from transformers import AutoTokenizer\n",
    "import os\n",
    "\n",
    "MODEL_NAME = \"vinai/bertweet-base\"\n",
    "\n",
    "tokenizer = AutoTokenizer.from_pretrained(MODEL_NAME)\n",
    "\n",
    "os.environ[\"TOKENIZERS_PARALLELISM\"] = \"false\"\n",
    "def tokenize_function(examples):\n",
    "    return tokenizer(examples, padding=\"max_length\", max_length=40, truncation=True)"
   ]
  },
  {
   "cell_type": "code",
   "execution_count": 3,
   "id": "c2a243e6-9afb-4592-b428-a11b53d54fe2",
   "metadata": {},
   "outputs": [
    {
     "data": {
      "text/plain": [
       "\"i hope my morning show does n't get cancelled !\""
      ]
     },
     "execution_count": 3,
     "metadata": {},
     "output_type": "execute_result"
    }
   ],
   "source": [
    "from emoji import demojize\n",
    "from nltk.tokenize import TweetTokenizer\n",
    "\n",
    "\n",
    "tokenizer_tweet = TweetTokenizer()\n",
    "\n",
    "\n",
    "def normalizeToken(token):\n",
    "    lowercased_token = token.lower()\n",
    "    if token.startswith(\"@\"):\n",
    "        return \"@USER\"\n",
    "    elif lowercased_token.startswith(\"http\") or lowercased_token.startswith(\"www\"):\n",
    "        return \"HTTPURL\"\n",
    "    elif len(token) == 1:\n",
    "        return demojize(token)\n",
    "    else:\n",
    "        if token == \"’\" or token == \"`\":\n",
    "            return \"'\"\n",
    "        elif token == \"…\":\n",
    "            return \"...\"\n",
    "        else:\n",
    "            return token\n",
    "\n",
    "\n",
    "def normalizeTweet(tweet):\n",
    "    tokens = tokenizer_tweet.tokenize(tweet.replace(\"’\", \"'\").replace(\"…\", \"...\").replace(\"`\", \"'\"))\n",
    "    normTweet = \" \".join([normalizeToken(token) for token in tokens])\n",
    "\n",
    "    normTweet = (\n",
    "        normTweet.replace(\"cannot \", \"can not \")\n",
    "        .replace(\"n't \", \" n't \")\n",
    "        .replace(\"n 't \", \" n't \")\n",
    "        .replace(\"ca n't\", \"can't\")\n",
    "        .replace(\"ai n't\", \"ain't\")\n",
    "    )\n",
    "    normTweet = (\n",
    "        normTweet.replace(\"'m \", \" 'm \")\n",
    "        .replace(\"'re \", \" 're \")\n",
    "        .replace(\"'s \", \" 's \")\n",
    "        .replace(\"'ll \", \" 'll \")\n",
    "        .replace(\"'d \", \" 'd \")\n",
    "        .replace(\"'ve \", \" 've \")\n",
    "    )\n",
    "    normTweet = (\n",
    "        normTweet.replace(\" p . m .\", \"  p.m.\")\n",
    "        .replace(\" p . m \", \" p.m \")\n",
    "        .replace(\" a . m .\", \" a.m.\")\n",
    "        .replace(\" a . m \", \" a.m \")\n",
    "    )\n",
    "\n",
    "    return \" \".join(normTweet.split())\n",
    "\n",
    "text = \"i hope my morning show doesn`t get cancelled!\"\n",
    "normalizeTweet(text)"
   ]
  },
  {
   "cell_type": "code",
   "execution_count": 21,
   "id": "8a24d392-bd22-4fa6-9b01-f7815e9c593f",
   "metadata": {},
   "outputs": [
    {
     "data": {
      "text/plain": [
       "list"
      ]
     },
     "execution_count": 21,
     "metadata": {},
     "output_type": "execute_result"
    }
   ],
   "source": [
    "\n",
    "d= tokenize_function(\"Hello i am a cuck\")\n",
    "type(d)\n",
    "# tokenizer.decode(d)\n"
   ]
  },
  {
   "cell_type": "code",
   "execution_count": 30,
   "id": "ef09186e-9b8b-4c22-a7e4-5a02e1353329",
   "metadata": {},
   "outputs": [],
   "source": [
    "from src.data.data_module import TextDataModule\n",
    "from src.features.preprocess import preprocess\n",
    "\n",
    "dm = TextDataModule(preprocess_fn=normalizeTweet, vectorizer_fn=tokenize_function, tokenize_fn=None, \n",
    "                    batch_size=8, \n",
    "                    num_workers=8)"
   ]
  },
  {
   "cell_type": "code",
   "execution_count": 33,
   "id": "e6be3519-a3b9-4554-a255-b459126dc3ff",
   "metadata": {},
   "outputs": [
    {
     "data": {
      "text/plain": [
       "{'text': ' that sounds great right about now. It`s ridiculously hot in my house',\n",
       " 'labels': 0,\n",
       " 'preproc_text': \"that sounds great right about now . It 's ridiculously hot in my house\",\n",
       " 'input_ids': tensor([    0,    25,  1108,   200,   136,    62,    77,     4,    76,    20,\n",
       "         17715,   586,    16,    23,   364,     2,     1,     1,     1,     1,\n",
       "             1,     1,     1,     1,     1,     1,     1,     1,     1,     1,\n",
       "             1,     1,     1,     1,     1,     1,     1,     1,     1,     1]),\n",
       " 'token_type_ids': tensor([0, 0, 0, 0, 0, 0, 0, 0, 0, 0, 0, 0, 0, 0, 0, 0, 0, 0, 0, 0, 0, 0, 0, 0,\n",
       "         0, 0, 0, 0, 0, 0, 0, 0, 0, 0, 0, 0, 0, 0, 0, 0]),\n",
       " 'attention_mask': tensor([1, 1, 1, 1, 1, 1, 1, 1, 1, 1, 1, 1, 1, 1, 1, 1, 0, 0, 0, 0, 0, 0, 0, 0,\n",
       "         0, 0, 0, 0, 0, 0, 0, 0, 0, 0, 0, 0, 0, 0, 0, 0])}"
      ]
     },
     "execution_count": 33,
     "metadata": {},
     "output_type": "execute_result"
    }
   ],
   "source": [
    "from transformers import AutoModel, AutoTokenizer \n",
    "\n",
    "# bertweet = AutoModel.from_pretrained(MODEL_NAME)\n",
    "x = dm.subsets[\"train\"]"
   ]
  },
  {
   "cell_type": "code",
   "execution_count": 35,
   "id": "cd1954b1-b84d-45cc-872e-f6ef7d5b6a29",
   "metadata": {},
   "outputs": [
    {
     "name": "stderr",
     "output_type": "stream",
     "text": [
      "Some weights of the model checkpoint at vinai/bertweet-base were not used when initializing RobertaForSequenceClassification: ['roberta.pooler.dense.weight', 'lm_head.dense.bias', 'lm_head.dense.weight', 'lm_head.bias', 'lm_head.decoder.bias', 'lm_head.layer_norm.bias', 'roberta.pooler.dense.bias', 'lm_head.layer_norm.weight', 'lm_head.decoder.weight']\n",
      "- This IS expected if you are initializing RobertaForSequenceClassification from the checkpoint of a model trained on another task or with another architecture (e.g. initializing a BertForSequenceClassification model from a BertForPreTraining model).\n",
      "- This IS NOT expected if you are initializing RobertaForSequenceClassification from the checkpoint of a model that you expect to be exactly identical (initializing a BertForSequenceClassification model from a BertForSequenceClassification model).\n",
      "Some weights of RobertaForSequenceClassification were not initialized from the model checkpoint at vinai/bertweet-base and are newly initialized: ['classifier.dense.bias', 'classifier.out_proj.bias', 'classifier.out_proj.weight', 'classifier.dense.weight']\n",
      "You should probably TRAIN this model on a down-stream task to be able to use it for predictions and inference.\n",
      "GPU available: True, used: True\n",
      "TPU available: False, using: 0 TPU cores\n",
      "IPU available: False, using: 0 IPUs\n",
      "HPU available: False, using: 0 HPUs\n",
      "LOCAL_RANK: 0 - CUDA_VISIBLE_DEVICES: [0]\n",
      "\n",
      "  | Name     | Type                             | Params\n",
      "--------------------------------------------------------------\n",
      "0 | bert     | RobertaForSequenceClassification | 134 M \n",
      "1 | accuracy | Accuracy                         | 0     \n",
      "--------------------------------------------------------------\n",
      "134 M     Trainable params\n",
      "0         Non-trainable params\n",
      "134 M     Total params\n",
      "539.609   Total estimated model params size (MB)\n"
     ]
    },
    {
     "data": {
      "application/vnd.jupyter.widget-view+json": {
       "model_id": "",
       "version_major": 2,
       "version_minor": 0
      },
      "text/plain": [
       "Sanity Checking: 0it [00:00, ?it/s]"
      ]
     },
     "metadata": {},
     "output_type": "display_data"
    },
    {
     "name": "stderr",
     "output_type": "stream",
     "text": [
      "/opt/conda/lib/python3.8/site-packages/torchmetrics/utilities/prints.py:36: UserWarning: Torchmetrics v0.9 introduced a new argument class property called `full_state_update` that has\n",
      "                not been set for this class (_ResultMetric). The property determines if `update` by\n",
      "                default needs access to the full metric state. If this is not the case, significant speedups can be\n",
      "                achieved and we recommend setting this to `False`.\n",
      "                We provide an checking function\n",
      "                `from torchmetrics.utilities import check_forward_no_full_state`\n",
      "                that can be used to check if the `full_state_update=True` (old and potential slower behaviour,\n",
      "                default for now) or if `full_state_update=False` can be used safely.\n",
      "                \n",
      "  warnings.warn(*args, **kwargs)\n"
     ]
    },
    {
     "data": {
      "application/vnd.jupyter.widget-view+json": {
       "model_id": "cbcf719cddd94675801c57d034ac54c2",
       "version_major": 2,
       "version_minor": 0
      },
      "text/plain": [
       "Training: 0it [00:00, ?it/s]"
      ]
     },
     "metadata": {},
     "output_type": "display_data"
    },
    {
     "data": {
      "application/vnd.jupyter.widget-view+json": {
       "model_id": "",
       "version_major": 2,
       "version_minor": 0
      },
      "text/plain": [
       "Validation: 0it [00:00, ?it/s]"
      ]
     },
     "metadata": {},
     "output_type": "display_data"
    },
    {
     "data": {
      "application/vnd.jupyter.widget-view+json": {
       "model_id": "",
       "version_major": 2,
       "version_minor": 0
      },
      "text/plain": [
       "Validation: 0it [00:00, ?it/s]"
      ]
     },
     "metadata": {},
     "output_type": "display_data"
    },
    {
     "data": {
      "application/vnd.jupyter.widget-view+json": {
       "model_id": "",
       "version_major": 2,
       "version_minor": 0
      },
      "text/plain": [
       "Validation: 0it [00:00, ?it/s]"
      ]
     },
     "metadata": {},
     "output_type": "display_data"
    }
   ],
   "source": [
    "import torch\n",
    "import torchmetrics\n",
    "import pytorch_lightning as pl\n",
    "\n",
    "from transformers import get_scheduler\n",
    "from transformers import AutoModelForSequenceClassification\n",
    "\n",
    "class BERTClassifier(pl.LightningModule):\n",
    "    def __init__(self, num_training_steps):\n",
    "        super().__init__()\n",
    "        \n",
    "        self.num_training_steps = num_training_steps\n",
    "        self.batch_keys_keep = ['labels', 'input_ids', 'token_type_ids', 'attention_mask']\n",
    "        self.bert = AutoModelForSequenceClassification.from_pretrained(MODEL_NAME, num_labels=3)\n",
    "        \n",
    "        self.accuracy = torchmetrics.Accuracy()\n",
    "        \n",
    "    def forward(self, x):\n",
    "        return self.bert(**x)\n",
    "        \n",
    "    def training_step(self, batch, batch_idx):\n",
    "        batch = self.filter_batch(batch)\n",
    "        outputs = self(batch)\n",
    "        loss = outputs.loss\n",
    "        y_hat = outputs.logits\n",
    "        y = batch[\"labels\"]\n",
    "        acc = self.accuracy(y_hat, y)\n",
    "        self.log(\"train/loss\", loss)\n",
    "        self.log(\"train/acc\", acc)\n",
    "        return loss\n",
    "\n",
    "    def validation_step(self, batch, batch_idx):\n",
    "        batch = self.filter_batch(batch)\n",
    "        outputs = self(batch)\n",
    "        val_loss = outputs.loss\n",
    "        y_hat = outputs.logits\n",
    "        acc = self.accuracy(y_hat, batch[\"labels\"])\n",
    "        self.log(\"val/loss\", val_loss)\n",
    "        self.log(\"val/acc\", acc)\n",
    "\n",
    "    def configure_optimizers(self):\n",
    "        optimizer = torch.optim.AdamW(model.parameters(), lr=2e-5)\n",
    "        lr_scheduler = get_scheduler(\n",
    "            name=\"linear\", optimizer=optimizer, num_warmup_steps=0, \n",
    "            num_training_steps=self.num_training_steps\n",
    "        )\n",
    "\n",
    "        return [optimizer], [lr_scheduler]\n",
    "                \n",
    "    def filter_batch(self, batch):\n",
    "        return {k: batch[k] for k in batch.keys() if k in self.batch_keys_keep}\n",
    "    \n",
    "num_epochs = 2\n",
    "num_training_steps = num_epochs * len(dm.train_dataloader())\n",
    "\n",
    "model = BERTClassifier(num_training_steps)\n",
    "logger = pl.loggers.TensorBoardLogger(\"lightning_logs\", name=MODEL_NAME)\n",
    "trainer = pl.Trainer(accelerator=\"gpu\",\n",
    "                     logger=logger,\n",
    "                     max_epochs=num_epochs,\n",
    "                     enable_checkpointing=False)\n",
    "trainer.fit(model=model, datamodule=dm)"
   ]
  },
  {
   "cell_type": "code",
   "execution_count": 36,
   "id": "331a39be-6b3d-4ce2-a5e2-5387c69e9142",
   "metadata": {},
   "outputs": [
    {
     "data": {
      "application/vnd.jupyter.widget-view+json": {
       "model_id": "da616cfa211b4093b2d69d3973618452",
       "version_major": 2,
       "version_minor": 0
      },
      "text/plain": [
       "  0%|          | 0/619 [00:00<?, ?it/s]"
      ]
     },
     "metadata": {},
     "output_type": "display_data"
    }
   ],
   "source": [
    "from tqdm.auto import tqdm\n",
    "import torch.nn.functional as F\n",
    "preds = []\n",
    "actuals = []\n",
    "probas = []\n",
    "model.eval()\n",
    "model.cuda()\n",
    "for batch in tqdm(dm.val_dataloader()):\n",
    "    with torch.no_grad():\n",
    "        batch = model.filter_batch(batch)\n",
    "        batch = {k: v.cuda() for k,v in batch.items()}\n",
    "        outputs = model(batch)\n",
    "        preds.append(torch.argmax(outputs.logits, dim=1))\n",
    "        actuals.append(batch[\"labels\"])\n",
    "        probas.append(F.softmax(outputs.logits, dim=1))\n",
    "\n",
    "preds = torch.cat(preds)\n",
    "actuals = torch.cat(actuals)\n",
    "probas = torch.cat(probas)"
   ]
  },
  {
   "cell_type": "code",
   "execution_count": 38,
   "id": "9aca297d-fadc-410c-a51c-784bd0c2c670",
   "metadata": {},
   "outputs": [
    {
     "name": "stdout",
     "output_type": "stream",
     "text": [
      "0.8022644561261626\n"
     ]
    },
    {
     "data": {
      "image/png": "[encoded data removed]",
      "text/plain": [
       "<Figure size 432x288 with 2 Axes>"
      ]
     },
     "metadata": {
      "needs_background": "light"
     },
     "output_type": "display_data"
    }
   ],
   "source": [
    "from sklearn.metrics import confusion_matrix, ConfusionMatrixDisplay, accuracy_score\n",
    "\n",
    "labels = [\"neutral\", \"positive\", \"negative\"]\n",
    "cm = confusion_matrix(actuals.cpu().numpy(), preds.cpu().numpy())\n",
    "disp = ConfusionMatrixDisplay(confusion_matrix=cm)\n",
    "disp.plot()\n",
    "print(accuracy_score(actuals.cpu(), preds.cpu()))"
   ]
  },
  {
   "cell_type": "code",
   "execution_count": 62,
   "id": "7650e926-ef26-439f-b096-4b88b5ae1c7f",
   "metadata": {},
   "outputs": [
    {
     "data": {
      "text/plain": [
       "(tensor([0.8163, 0.0825, 0.1012], device='cuda:0'),\n",
       " {'text': ' - Yeah I know they are **** annoying with that... But it,s such good promo... I lost some contacts for business in there',\n",
       "  'labels': 1,\n",
       "  'preproc_text': '- Yeah I know they are * * * annoying with that ... But it , s such good promo ... I lost some contacts for business in there',\n",
       "  'input_ids': tensor([   0,   34,  799,    8,   68,   59,   41,  110,  110,  110, 1327,   30,\n",
       "            25,   28,  192,   18,    7,  256,  367,   94, 6369,   28,    8,  590,\n",
       "           109, 7883,   19,  763,   16,   99,    2,    1,    1,    1,    1,    1,\n",
       "             1,    1,    1,    1]),\n",
       "  'token_type_ids': tensor([0, 0, 0, 0, 0, 0, 0, 0, 0, 0, 0, 0, 0, 0, 0, 0, 0, 0, 0, 0, 0, 0, 0, 0,\n",
       "          0, 0, 0, 0, 0, 0, 0, 0, 0, 0, 0, 0, 0, 0, 0, 0]),\n",
       "  'attention_mask': tensor([1, 1, 1, 1, 1, 1, 1, 1, 1, 1, 1, 1, 1, 1, 1, 1, 1, 1, 1, 1, 1, 1, 1, 1,\n",
       "          1, 1, 1, 1, 1, 1, 1, 0, 0, 0, 0, 0, 0, 0, 0, 0])})"
      ]
     },
     "execution_count": 62,
     "metadata": {},
     "output_type": "execute_result"
    }
   ],
   "source": [
    "idx = 196\n",
    "probas[idx], dm.subsets[\"val\"][idx]"
   ]
  },
  {
   "cell_type": "code",
   "execution_count": 57,
   "id": "95a8ba56-3ce0-4e4f-917b-1fe1fd429563",
   "metadata": {},
   "outputs": [
    {
     "data": {
      "text/plain": [
       "(array([  37,   81,  146,  175,  187,  196,  201,  228,  230,  241,  243,\n",
       "         289,  324,  330,  389,  391,  399,  433,  435,  476,  479,  488,\n",
       "         494,  501,  512,  543,  544,  555,  563,  581,  589,  616,  620,\n",
       "         671,  681,  688,  693,  717,  718,  744,  751,  775,  884,  916,\n",
       "         943,  969, 1002, 1005, 1009, 1015, 1032, 1038, 1039, 1094, 1096,\n",
       "        1107, 1119, 1146, 1220, 1237, 1261, 1262, 1291, 1335, 1369, 1383,\n",
       "        1393, 1397, 1400, 1413, 1430, 1444, 1469, 1498, 1525, 1535, 1591,\n",
       "        1616, 1637, 1662, 1669, 1675, 1776, 1796, 1814, 1840, 1868, 1875,\n",
       "        1934, 1969, 1989, 2023, 2073, 2087, 2088, 2121, 2124, 2150, 2157,\n",
       "        2172, 2197, 2215, 2234, 2241, 2271, 2351, 2382, 2392, 2394, 2408,\n",
       "        2434, 2442, 2455, 2469, 2478, 2481, 2518, 2520, 2541, 2564, 2585,\n",
       "        2588, 2603, 2609, 2616, 2633, 2659, 2672, 2676, 2685, 2694, 2695,\n",
       "        2727, 2773, 2778, 2784, 2820, 2843, 2850, 2875, 2916, 2924, 2939,\n",
       "        3001, 3013, 3041, 3120, 3126, 3134, 3138, 3141, 3153, 3219, 3227,\n",
       "        3234, 3263, 3265, 3266, 3270, 3309, 3325, 3332, 3360, 3438, 3442,\n",
       "        3481, 3496, 3517, 3550, 3578, 3594, 3654, 3674, 3709, 3724, 3735,\n",
       "        3737, 3748, 3769, 3783, 3841, 3848, 3899, 3915, 3947, 3956, 3966,\n",
       "        3971, 4018, 4042, 4058, 4059, 4061, 4069, 4075, 4100, 4107, 4135,\n",
       "        4143, 4160, 4163, 4167, 4190, 4248, 4295, 4316, 4318, 4327, 4343,\n",
       "        4352, 4353, 4355, 4367, 4375, 4458, 4507, 4537, 4550, 4556, 4561,\n",
       "        4567, 4584, 4636, 4640, 4647, 4678, 4679, 4682, 4707, 4719, 4725,\n",
       "        4753, 4764, 4819, 4848, 4855, 4865, 4866, 4889, 4902, 4908, 4928,\n",
       "        4934, 4942]),)"
      ]
     },
     "execution_count": 57,
     "metadata": {},
     "output_type": "execute_result"
    }
   ],
   "source": [
    "import numpy as np\n",
    "np.where((preds.cpu().numpy() == 0) & (actuals.cpu().numpy() == 1) )"
   ]
  },
  {
   "cell_type": "code",
   "execution_count": 45,
   "id": "ed46f300-77dd-4a01-97b8-42697ee9a338",
   "metadata": {},
   "outputs": [
    {
     "data": {
      "text/plain": [
       "array([0.99245185, 0.99223775, 0.99237627, ..., 0.99248815, 0.96083903,\n",
       "       0.99324   ], dtype=float32)"
      ]
     },
     "execution_count": 45,
     "metadata": {},
     "output_type": "execute_result"
    }
   ],
   "source": [
    "probas[true_pos_idxs, 1].cpu().numpy().squeeze()"
   ]
  },
  {
   "cell_type": "code",
   "execution_count": 55,
   "id": "844c0367-1a0a-4ba8-918f-6a6bc66c11f4",
   "metadata": {},
   "outputs": [
    {
     "data": {
      "text/plain": [
       "<AxesSubplot:ylabel='Count'>"
      ]
     },
     "execution_count": 55,
     "metadata": {},
     "output_type": "execute_result"
    },
    {
     "data": {
      "image/png": "[encoded data removed]",
      "text/plain": [
       "<Figure size 1080x288 with 2 Axes>"
      ]
     },
     "metadata": {
      "needs_background": "light"
     },
     "output_type": "display_data"
    }
   ],
   "source": [
    "true_pos_idxs = np.where((preds.cpu().numpy() == 1) & (actuals.cpu().numpy() == 0))\n",
    "p_pos = probas[true_pos_idxs, 1].cpu().numpy().squeeze()\n",
    "p_neu = probas[true_pos_idxs, 0].cpu().numpy().squeeze()\n",
    "import seaborn as sns\n",
    "import matplotlib.pyplot as plt\n",
    "\n",
    "fig, axs = plt.subplots(ncols=2, figsize=(15, 4))\n",
    "sns.histplot(p_pos, ax=axs[0])\n",
    "sns.histplot(p_neu, ax=axs[1])"
   ]
  },
  {
   "cell_type": "code",
   "execution_count": null,
   "id": "3f85dffc-f759-4c90-bd57-5d32e113a2ee",
   "metadata": {},
   "outputs": [],
   "source": [
    "from sklearn.metrics import accuracy_score\n",
    "thres = 0.7\n",
    "preds_new = []\n",
    "for row in probas:\n",
    "    # print(row)\n",
    "    if row[1] > thres:\n",
    "        preds_new.append(1)\n",
    "    elif row[2] > thres:\n",
    "        preds_new.append(2)\n",
    "    else:\n",
    "        preds_new.append(0)\n",
    "cm = confusion_matrix(actuals.cpu().numpy(), preds_new)\n",
    "disp = ConfusionMatrixDisplay(confusion_matrix=cm)\n",
    "disp.plot()\n",
    "print(accuracy_score(actuals.cpu(), preds_new))"
   ]
  },
  {
   "cell_type": "code",
   "execution_count": 86,
   "id": "c027d4d5-3098-4a35-847a-a2440542cced",
   "metadata": {
    "scrolled": true,
    "tags": []
   },
   "outputs": [
    {
     "data": {
      "application/vnd.jupyter.widget-view+json": {
       "model_id": "c52cbc9e526546ccb1d10eea6e81abb0",
       "version_major": 2,
       "version_minor": 0
      },
      "text/plain": [
       "  0%|          | 0/2474 [00:01<?, ?it/s]"
      ]
     },
     "metadata": {},
     "output_type": "display_data"
    }
   ],
   "source": [
    "actuals_train = []\n",
    "probas_train = []\n",
    "model.eval()\n",
    "model.cuda()\n",
    "for batch in tqdm(dm.train_dataloader()):\n",
    "    with torch.no_grad():\n",
    "        batch = model.filter_batch(batch)\n",
    "        batch = {k: v.cuda() for k,v in batch.items()}\n",
    "        outputs = model(batch)\n",
    "        actuals_train.append(batch[\"labels\"])\n",
    "        probas_train.append(F.softmax(outputs.logits, dim=1))\n",
    "\n",
    "actuals_train = torch.cat(actuals_train).cpu().numpy()\n",
    "probas_train = torch.cat(probas_train).cpu().numpy()\n",
    "\n",
    "actuals_val = []\n",
    "probas_val = []\n",
    "model.eval()\n",
    "model.cuda()\n",
    "for batch in tqdm(dm.val_dataloader()):\n",
    "    with torch.no_grad():\n",
    "        batch = model.filter_batch(batch)\n",
    "        batch = {k: v.cuda() for k,v in batch.items()}\n",
    "        outputs = model(batch)\n",
    "        actuals_val.append(batch[\"labels\"])\n",
    "        probas_val.append(F.softmax(outputs.logits, dim=1))\n",
    "\n",
    "actuals_val = torch.cat(actuals_val).cpu().numpy()\n",
    "probas_val = torch.cat(probas_val).cpu().numpy()"
   ]
  },
  {
   "cell_type": "code",
   "execution_count": 88,
   "id": "15daa682-3334-4a3a-9747-85b5f1638de1",
   "metadata": {},
   "outputs": [
    {
     "data": {
      "text/plain": [
       "((4946, 3), (4946,))"
      ]
     },
     "execution_count": 88,
     "metadata": {},
     "output_type": "execute_result"
    }
   ],
   "source": [
    "actuals_val = actuals.cpu().numpy()\n",
    "probas_val = probas.cpu().numpy()\n",
    "\n",
    "probas_val.shape, actuals_val.shape"
   ]
  },
  {
   "cell_type": "code",
   "execution_count": 90,
   "id": "708e773a-056f-450a-be6e-0f49be4d284c",
   "metadata": {},
   "outputs": [
    {
     "data": {
      "text/plain": [
       "SVC()"
      ]
     },
     "execution_count": 90,
     "metadata": {},
     "output_type": "execute_result"
    }
   ],
   "source": [
    "from sklearn.svm import SVC\n",
    "\n",
    "clf = SVC()\n",
    "clf.fit(probas_train, actuals_train)"
   ]
  },
  {
   "cell_type": "code",
   "execution_count": null,
   "id": "ebbdd444-f4c1-4167-8f3f-232cac89cf38",
   "metadata": {},
   "outputs": [],
   "source": []
  },
  {
   "cell_type": "code",
   "execution_count": 93,
   "id": "059835d1-2825-423f-88d5-13d2e4594d73",
   "metadata": {},
   "outputs": [
    {
     "name": "stdout",
     "output_type": "stream",
     "text": [
      "0.8048928427011727\n"
     ]
    },
    {
     "data": {
      "image/png": "[encoded data removed]",
      "text/plain": [
       "<Figure size 432x288 with 2 Axes>"
      ]
     },
     "metadata": {
      "needs_background": "light"
     },
     "output_type": "display_data"
    }
   ],
   "source": [
    "preds_stack = clf.predict(probas_val)\n",
    "cm = confusion_matrix(actuals_val, preds_stack)\n",
    "disp = ConfusionMatrixDisplay(confusion_matrix=cm)\n",
    "disp.plot()\n",
    "print(accuracy_score(actuals_val, preds_stack))"
   ]
  },
  {
   "cell_type": "code",
   "execution_count": 64,
   "id": "96b2003c-e1f8-4a8c-928c-f5ce049223bf",
   "metadata": {},
   "outputs": [
    {
     "data": {
      "application/vnd.jupyter.widget-view+json": {
       "model_id": "e5c627ec62c1473b86cd3886dc549199",
       "version_major": 2,
       "version_minor": 0
      },
      "text/plain": [
       "  0%|          | 0/344 [00:01<?, ?it/s]"
      ]
     },
     "metadata": {},
     "output_type": "display_data"
    }
   ],
   "source": [
    "from tqdm.auto import tqdm\n",
    "preds_test = []\n",
    "model.cuda()\n",
    "model.eval()\n",
    "for batch in tqdm(dm.test_dataloader()):\n",
    "    with torch.no_grad():\n",
    "        batch = model.filter_batch(batch)\n",
    "        batch = {k: v.cuda() for k,v in batch.items()}\n",
    "        outputs = model(batch)\n",
    "        preds_test.append(torch.argmax(outputs.logits, dim=1))\n",
    "preds_test = torch.cat(preds_test)"
   ]
  },
  {
   "cell_type": "code",
   "execution_count": 69,
   "id": "7f6402ca-ca96-4179-9c1e-8f653dc9a7fc",
   "metadata": {},
   "outputs": [
    {
     "data": {
      "text/html": [
       "<div>\n",
       "<style scoped>\n",
       "    .dataframe tbody tr th:only-of-type {\n",
       "        vertical-align: middle;\n",
       "    }\n",
       "\n",
       "    .dataframe tbody tr th {\n",
       "        vertical-align: top;\n",
       "    }\n",
       "\n",
       "    .dataframe thead th {\n",
       "        text-align: right;\n",
       "    }\n",
       "</style>\n",
       "<table border=\"1\" class=\"dataframe\">\n",
       "  <thead>\n",
       "    <tr style=\"text-align: right;\">\n",
       "      <th></th>\n",
       "      <th>textID</th>\n",
       "      <th>text</th>\n",
       "      <th>selected_text</th>\n",
       "    </tr>\n",
       "  </thead>\n",
       "  <tbody>\n",
       "    <tr>\n",
       "      <th>0</th>\n",
       "      <td>102f98e5e2</td>\n",
       "      <td>Happy Mother`s Day hahaha</td>\n",
       "      <td>Happy Mother`s Day</td>\n",
       "    </tr>\n",
       "    <tr>\n",
       "      <th>1</th>\n",
       "      <td>033b399113</td>\n",
       "      <td>Sorry for the triple twitter post, was having ...</td>\n",
       "      <td>Sorry for the triple twitter post, was having ...</td>\n",
       "    </tr>\n",
       "    <tr>\n",
       "      <th>2</th>\n",
       "      <td>c125e29be2</td>\n",
       "      <td>thats much better than the flu syndrome!</td>\n",
       "      <td>thats much better</td>\n",
       "    </tr>\n",
       "    <tr>\n",
       "      <th>3</th>\n",
       "      <td>b91e2b0679</td>\n",
       "      <td>Aww I have a tummy ache</td>\n",
       "      <td>tummy ache</td>\n",
       "    </tr>\n",
       "    <tr>\n",
       "      <th>4</th>\n",
       "      <td>1a46141274</td>\n",
       "      <td>hey chocolate chips is good.  i want a snack ...</td>\n",
       "      <td>good.</td>\n",
       "    </tr>\n",
       "    <tr>\n",
       "      <th>...</th>\n",
       "      <td>...</td>\n",
       "      <td>...</td>\n",
       "      <td>...</td>\n",
       "    </tr>\n",
       "    <tr>\n",
       "      <th>2743</th>\n",
       "      <td>0bfb1006b9</td>\n",
       "      <td>Is also having a lonely night.... Wishing she ...</td>\n",
       "      <td>Is also having a lonely night.... Wishing she ...</td>\n",
       "    </tr>\n",
       "    <tr>\n",
       "      <th>2744</th>\n",
       "      <td>f1df499466</td>\n",
       "      <td>o ok..im jealous..i wish I was in bed</td>\n",
       "      <td>o ok..im jealous..i wish I was in bed</td>\n",
       "    </tr>\n",
       "    <tr>\n",
       "      <th>2745</th>\n",
       "      <td>de4da367a4</td>\n",
       "      <td>**** your in trouble now  why don`t you try w...</td>\n",
       "      <td>**** your in trouble now</td>\n",
       "    </tr>\n",
       "    <tr>\n",
       "      <th>2746</th>\n",
       "      <td>07a8ec4593</td>\n",
       "      <td>HAPPY MOTHER DAY FOR ALL THE STRONG HARD WORKI...</td>\n",
       "      <td>HAPPY MOTHER DAY FOR ALL THE STRONG HARD WORKI...</td>\n",
       "    </tr>\n",
       "    <tr>\n",
       "      <th>2747</th>\n",
       "      <td>cd06512bbb</td>\n",
       "      <td>Nobody ever ` s   makes me sad</td>\n",
       "      <td>Nobody ever ` s   makes me sad</td>\n",
       "    </tr>\n",
       "  </tbody>\n",
       "</table>\n",
       "<p>2748 rows × 3 columns</p>\n",
       "</div>"
      ],
      "text/plain": [
       "          textID                                               text  \\\n",
       "0     102f98e5e2                          Happy Mother`s Day hahaha   \n",
       "1     033b399113  Sorry for the triple twitter post, was having ...   \n",
       "2     c125e29be2           thats much better than the flu syndrome!   \n",
       "3     b91e2b0679                            Aww I have a tummy ache   \n",
       "4     1a46141274   hey chocolate chips is good.  i want a snack ...   \n",
       "...          ...                                                ...   \n",
       "2743  0bfb1006b9  Is also having a lonely night.... Wishing she ...   \n",
       "2744  f1df499466              o ok..im jealous..i wish I was in bed   \n",
       "2745  de4da367a4   **** your in trouble now  why don`t you try w...   \n",
       "2746  07a8ec4593  HAPPY MOTHER DAY FOR ALL THE STRONG HARD WORKI...   \n",
       "2747  cd06512bbb                     Nobody ever ` s   makes me sad   \n",
       "\n",
       "                                          selected_text  \n",
       "0                                    Happy Mother`s Day  \n",
       "1     Sorry for the triple twitter post, was having ...  \n",
       "2                                     thats much better  \n",
       "3                                            tummy ache  \n",
       "4                                                 good.  \n",
       "...                                                 ...  \n",
       "2743  Is also having a lonely night.... Wishing she ...  \n",
       "2744              o ok..im jealous..i wish I was in bed  \n",
       "2745                           **** your in trouble now  \n",
       "2746  HAPPY MOTHER DAY FOR ALL THE STRONG HARD WORKI...  \n",
       "2747                     Nobody ever ` s   makes me sad  \n",
       "\n",
       "[2748 rows x 3 columns]"
      ]
     },
     "execution_count": 69,
     "metadata": {},
     "output_type": "execute_result"
    }
   ],
   "source": [
    "import pandas as pd\n",
    "df_test = pd.read_csv(\"../data/raw/test.csv\")\n",
    "df_test"
   ]
  },
  {
   "cell_type": "code",
   "execution_count": 72,
   "id": "8e65d4eb-6070-4e25-a9e5-cca4ec6d6e93",
   "metadata": {},
   "outputs": [],
   "source": [
    "from src.utils import create_submission\n",
    "create_submission(df_test, preds_test.cpu())"
   ]
  },
  {
   "cell_type": "code",
   "execution_count": 79,
   "id": "be3a5274-ba10-4327-9d5c-491935d770c6",
   "metadata": {},
   "outputs": [
    {
     "name": "stdout",
     "output_type": "stream",
     "text": [
      "Warning: Your Kaggle API key is readable by other users on this system! To fix this, you can run 'chmod 600 /root/.kaggle/kaggle.json'\n",
      "100%|██████████████████████████████████████| 35.7k/35.7k [00:00<00:00, 71.6kB/s]\n",
      "Successfully submitted to EURECOM AML 2022:: Challenge 3"
     ]
    }
   ],
   "source": [
    "!kaggle competitions submit -c eurecom-aml-2022-challenge-3 -f submission.csv -m \"BERTweet\""
   ]
  },
  {
   "cell_type": "code",
   "execution_count": 74,
   "id": "4938018b-75a7-4b56-b1ce-b96561f880e1",
   "metadata": {},
   "outputs": [
    {
     "name": "stdout",
     "output_type": "stream",
     "text": [
      "Looking in indexes: https://pypi.org/simple, https://pypi.ngc.nvidia.com\n",
      "Collecting kaggle\n",
      "  Downloading kaggle-1.5.12.tar.gz (58 kB)\n",
      "\u001b[K     |████████████████████████████████| 58 kB 9.7 MB/s eta 0:00:01\n",
      "\u001b[?25hRequirement already satisfied: six>=1.10 in /opt/conda/lib/python3.8/site-packages (from kaggle) (1.16.0)\n",
      "Requirement already satisfied: certifi in /opt/conda/lib/python3.8/site-packages (from kaggle) (2021.10.8)\n",
      "Requirement already satisfied: python-dateutil in /opt/conda/lib/python3.8/site-packages (from kaggle) (2.8.2)\n",
      "Requirement already satisfied: requests in /opt/conda/lib/python3.8/site-packages (from kaggle) (2.26.0)\n",
      "Requirement already satisfied: tqdm in /opt/conda/lib/python3.8/site-packages (from kaggle) (4.62.3)\n",
      "Requirement already satisfied: python-slugify in /opt/conda/lib/python3.8/site-packages (from kaggle) (5.0.2)\n",
      "Requirement already satisfied: urllib3 in /opt/conda/lib/python3.8/site-packages (from kaggle) (1.26.7)\n",
      "Requirement already satisfied: text-unidecode>=1.3 in /opt/conda/lib/python3.8/site-packages (from python-slugify->kaggle) (1.3)\n",
      "Requirement already satisfied: charset-normalizer~=2.0.0 in /opt/conda/lib/python3.8/site-packages (from requests->kaggle) (2.0.9)\n",
      "Requirement already satisfied: idna<4,>=2.5 in /opt/conda/lib/python3.8/site-packages (from requests->kaggle) (3.1)\n",
      "Building wheels for collected packages: kaggle\n",
      "  Building wheel for kaggle (setup.py) ... \u001b[?25ldone\n",
      "\u001b[?25h  Created wheel for kaggle: filename=kaggle-1.5.12-py3-none-any.whl size=73052 sha256=0305b53bb7747cb2893e8034e3c340e88a8cd164b89911168ef22f0cd266dca0\n",
      "  Stored in directory: /tmp/pip-ephem-wheel-cache-wuipfj7_/wheels/29/da/11/144cc25aebdaeb4931b231e25fd34b394e6a5725cbb2f50106\n",
      "Successfully built kaggle\n",
      "Installing collected packages: kaggle\n",
      "Successfully installed kaggle-1.5.12\n",
      "\u001b[33mWARNING: Running pip as the 'root' user can result in broken permissions and conflicting behaviour with the system package manager. It is recommended to use a virtual environment instead: https://pip.pypa.io/warnings/venv\u001b[0m\n"
     ]
    }
   ],
   "source": [
    "!pip install kaggle\n"
   ]
  }
 ],
 "metadata": {
  "kernelspec": {
   "display_name": "Python 3 (ipykernel)",
   "language": "python",
   "name": "python3"
  },
  "language_info": {
   "codemirror_mode": {
    "name": "ipython",
    "version": 3
   },
   "file_extension": ".py",
   "mimetype": "text/x-python",
   "name": "python",
   "nbconvert_exporter": "python",
   "pygments_lexer": "ipython3",
   "version": "3.8.12"
  }
 },
 "nbformat": 4,
 "nbformat_minor": 5
}
